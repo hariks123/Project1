{
 "cells": [
  {
   "cell_type": "code",
   "execution_count": 1,
   "id": "1feaf1d8",
   "metadata": {},
   "outputs": [],
   "source": [
    "#dependencies\n",
    "import matplotlib.pyplot as plt\n",
    "import pandas as pd\n",
    "import numpy as np\n",
    "from scipy.stats import linregress\n",
    "import scipy.stats as st"
   ]
  },
  {
   "cell_type": "code",
   "execution_count": 2,
   "id": "5f3bbcf4",
   "metadata": {},
   "outputs": [
    {
     "data": {
      "text/html": [
       "<div>\n",
       "<style scoped>\n",
       "    .dataframe tbody tr th:only-of-type {\n",
       "        vertical-align: middle;\n",
       "    }\n",
       "\n",
       "    .dataframe tbody tr th {\n",
       "        vertical-align: top;\n",
       "    }\n",
       "\n",
       "    .dataframe thead th {\n",
       "        text-align: right;\n",
       "    }\n",
       "</style>\n",
       "<table border=\"1\" class=\"dataframe\">\n",
       "  <thead>\n",
       "    <tr style=\"text-align: right;\">\n",
       "      <th></th>\n",
       "      <th>Country</th>\n",
       "      <th>Score</th>\n",
       "      <th>Rank</th>\n",
       "      <th>Year</th>\n",
       "      <th>Logged GDP per capita</th>\n",
       "      <th>Social support</th>\n",
       "      <th>Healthy life expectancy</th>\n",
       "      <th>Freedom to make life choices</th>\n",
       "      <th>Generosity</th>\n",
       "      <th>Perceptions of corruption</th>\n",
       "    </tr>\n",
       "  </thead>\n",
       "  <tbody>\n",
       "    <tr>\n",
       "      <th>0</th>\n",
       "      <td>Switzerland</td>\n",
       "      <td>7.587</td>\n",
       "      <td>1</td>\n",
       "      <td>2015</td>\n",
       "      <td>10.857283</td>\n",
       "      <td>0.953136</td>\n",
       "      <td>72.736862</td>\n",
       "      <td>0.947724</td>\n",
       "      <td>0.080692</td>\n",
       "      <td>0.301402</td>\n",
       "    </tr>\n",
       "    <tr>\n",
       "      <th>1</th>\n",
       "      <td>Iceland</td>\n",
       "      <td>7.561</td>\n",
       "      <td>2</td>\n",
       "      <td>2015</td>\n",
       "      <td>10.568534</td>\n",
       "      <td>0.975240</td>\n",
       "      <td>72.968559</td>\n",
       "      <td>0.912811</td>\n",
       "      <td>0.257895</td>\n",
       "      <td>0.741834</td>\n",
       "    </tr>\n",
       "    <tr>\n",
       "      <th>2</th>\n",
       "      <td>Denmark</td>\n",
       "      <td>7.527</td>\n",
       "      <td>3</td>\n",
       "      <td>2015</td>\n",
       "      <td>10.639521</td>\n",
       "      <td>0.957780</td>\n",
       "      <td>70.323395</td>\n",
       "      <td>0.932365</td>\n",
       "      <td>0.137351</td>\n",
       "      <td>0.200448</td>\n",
       "    </tr>\n",
       "    <tr>\n",
       "      <th>3</th>\n",
       "      <td>Norway</td>\n",
       "      <td>7.522</td>\n",
       "      <td>4</td>\n",
       "      <td>2015</td>\n",
       "      <td>11.048872</td>\n",
       "      <td>0.945359</td>\n",
       "      <td>70.705254</td>\n",
       "      <td>0.951669</td>\n",
       "      <td>0.144468</td>\n",
       "      <td>0.388029</td>\n",
       "    </tr>\n",
       "    <tr>\n",
       "      <th>4</th>\n",
       "      <td>Canada</td>\n",
       "      <td>7.427</td>\n",
       "      <td>5</td>\n",
       "      <td>2015</td>\n",
       "      <td>10.642016</td>\n",
       "      <td>0.941860</td>\n",
       "      <td>71.443192</td>\n",
       "      <td>0.916792</td>\n",
       "      <td>0.285598</td>\n",
       "      <td>0.444144</td>\n",
       "    </tr>\n",
       "  </tbody>\n",
       "</table>\n",
       "</div>"
      ],
      "text/plain": [
       "       Country  Score  Rank  Year  Logged GDP per capita  Social support  \\\n",
       "0  Switzerland  7.587     1  2015              10.857283        0.953136   \n",
       "1      Iceland  7.561     2  2015              10.568534        0.975240   \n",
       "2      Denmark  7.527     3  2015              10.639521        0.957780   \n",
       "3       Norway  7.522     4  2015              11.048872        0.945359   \n",
       "4       Canada  7.427     5  2015              10.642016        0.941860   \n",
       "\n",
       "   Healthy life expectancy  Freedom to make life choices  Generosity  \\\n",
       "0                72.736862                      0.947724    0.080692   \n",
       "1                72.968559                      0.912811    0.257895   \n",
       "2                70.323395                      0.932365    0.137351   \n",
       "3                70.705254                      0.951669    0.144468   \n",
       "4                71.443192                      0.916792    0.285598   \n",
       "\n",
       "   Perceptions of corruption  \n",
       "0                   0.301402  \n",
       "1                   0.741834  \n",
       "2                   0.200448  \n",
       "3                   0.388029  \n",
       "4                   0.444144  "
      ]
     },
     "execution_count": 2,
     "metadata": {},
     "output_type": "execute_result"
    }
   ],
   "source": [
    "#read excel file into dataframe\n",
    "happiness_data=pd.read_excel(\"Resources/WHR2015-21.xlsx\")\n",
    "\n",
    "#match data sets by year \n",
    "happiness_data = happiness_data.loc[happiness_data[\"Year\"] < 2020]\n",
    "\n",
    "#display dataframe \n",
    "happiness_data.head()"
   ]
  },
  {
   "cell_type": "code",
   "execution_count": 3,
   "id": "5db769d1",
   "metadata": {},
   "outputs": [
    {
     "data": {
      "text/html": [
       "<div>\n",
       "<style scoped>\n",
       "    .dataframe tbody tr th:only-of-type {\n",
       "        vertical-align: middle;\n",
       "    }\n",
       "\n",
       "    .dataframe tbody tr th {\n",
       "        vertical-align: top;\n",
       "    }\n",
       "\n",
       "    .dataframe thead th {\n",
       "        text-align: right;\n",
       "    }\n",
       "</style>\n",
       "<table border=\"1\" class=\"dataframe\">\n",
       "  <thead>\n",
       "    <tr style=\"text-align: right;\">\n",
       "      <th></th>\n",
       "      <th>iso_code</th>\n",
       "      <th>country</th>\n",
       "      <th>year</th>\n",
       "      <th>co2</th>\n",
       "      <th>consumption_co2</th>\n",
       "      <th>co2_growth_prct</th>\n",
       "      <th>co2_growth_abs</th>\n",
       "      <th>trade_co2</th>\n",
       "      <th>co2_per_capita</th>\n",
       "      <th>consumption_co2_per_capita</th>\n",
       "      <th>...</th>\n",
       "      <th>ghg_per_capita</th>\n",
       "      <th>methane</th>\n",
       "      <th>methane_per_capita</th>\n",
       "      <th>nitrous_oxide</th>\n",
       "      <th>nitrous_oxide_per_capita</th>\n",
       "      <th>population</th>\n",
       "      <th>gdp</th>\n",
       "      <th>primary_energy_consumption</th>\n",
       "      <th>energy_per_capita</th>\n",
       "      <th>energy_per_gdp</th>\n",
       "    </tr>\n",
       "  </thead>\n",
       "  <tbody>\n",
       "    <tr>\n",
       "      <th>0</th>\n",
       "      <td>AFG</td>\n",
       "      <td>Afghanistan</td>\n",
       "      <td>1949</td>\n",
       "      <td>0.015</td>\n",
       "      <td>NaN</td>\n",
       "      <td>NaN</td>\n",
       "      <td>NaN</td>\n",
       "      <td>NaN</td>\n",
       "      <td>0.002</td>\n",
       "      <td>NaN</td>\n",
       "      <td>...</td>\n",
       "      <td>NaN</td>\n",
       "      <td>NaN</td>\n",
       "      <td>NaN</td>\n",
       "      <td>NaN</td>\n",
       "      <td>NaN</td>\n",
       "      <td>7624058.0</td>\n",
       "      <td>NaN</td>\n",
       "      <td>NaN</td>\n",
       "      <td>NaN</td>\n",
       "      <td>NaN</td>\n",
       "    </tr>\n",
       "    <tr>\n",
       "      <th>1</th>\n",
       "      <td>AFG</td>\n",
       "      <td>Afghanistan</td>\n",
       "      <td>1950</td>\n",
       "      <td>0.084</td>\n",
       "      <td>NaN</td>\n",
       "      <td>475.0</td>\n",
       "      <td>0.070</td>\n",
       "      <td>NaN</td>\n",
       "      <td>0.011</td>\n",
       "      <td>NaN</td>\n",
       "      <td>...</td>\n",
       "      <td>NaN</td>\n",
       "      <td>NaN</td>\n",
       "      <td>NaN</td>\n",
       "      <td>NaN</td>\n",
       "      <td>NaN</td>\n",
       "      <td>7752117.0</td>\n",
       "      <td>9.421400e+09</td>\n",
       "      <td>NaN</td>\n",
       "      <td>NaN</td>\n",
       "      <td>NaN</td>\n",
       "    </tr>\n",
       "    <tr>\n",
       "      <th>2</th>\n",
       "      <td>AFG</td>\n",
       "      <td>Afghanistan</td>\n",
       "      <td>1951</td>\n",
       "      <td>0.092</td>\n",
       "      <td>NaN</td>\n",
       "      <td>8.7</td>\n",
       "      <td>0.007</td>\n",
       "      <td>NaN</td>\n",
       "      <td>0.012</td>\n",
       "      <td>NaN</td>\n",
       "      <td>...</td>\n",
       "      <td>NaN</td>\n",
       "      <td>NaN</td>\n",
       "      <td>NaN</td>\n",
       "      <td>NaN</td>\n",
       "      <td>NaN</td>\n",
       "      <td>7840151.0</td>\n",
       "      <td>9.692280e+09</td>\n",
       "      <td>NaN</td>\n",
       "      <td>NaN</td>\n",
       "      <td>NaN</td>\n",
       "    </tr>\n",
       "    <tr>\n",
       "      <th>3</th>\n",
       "      <td>AFG</td>\n",
       "      <td>Afghanistan</td>\n",
       "      <td>1952</td>\n",
       "      <td>0.092</td>\n",
       "      <td>NaN</td>\n",
       "      <td>0.0</td>\n",
       "      <td>0.000</td>\n",
       "      <td>NaN</td>\n",
       "      <td>0.012</td>\n",
       "      <td>NaN</td>\n",
       "      <td>...</td>\n",
       "      <td>NaN</td>\n",
       "      <td>NaN</td>\n",
       "      <td>NaN</td>\n",
       "      <td>NaN</td>\n",
       "      <td>NaN</td>\n",
       "      <td>7935996.0</td>\n",
       "      <td>1.001732e+10</td>\n",
       "      <td>NaN</td>\n",
       "      <td>NaN</td>\n",
       "      <td>NaN</td>\n",
       "    </tr>\n",
       "    <tr>\n",
       "      <th>4</th>\n",
       "      <td>AFG</td>\n",
       "      <td>Afghanistan</td>\n",
       "      <td>1953</td>\n",
       "      <td>0.106</td>\n",
       "      <td>NaN</td>\n",
       "      <td>16.0</td>\n",
       "      <td>0.015</td>\n",
       "      <td>NaN</td>\n",
       "      <td>0.013</td>\n",
       "      <td>NaN</td>\n",
       "      <td>...</td>\n",
       "      <td>NaN</td>\n",
       "      <td>NaN</td>\n",
       "      <td>NaN</td>\n",
       "      <td>NaN</td>\n",
       "      <td>NaN</td>\n",
       "      <td>8039684.0</td>\n",
       "      <td>1.063052e+10</td>\n",
       "      <td>NaN</td>\n",
       "      <td>NaN</td>\n",
       "      <td>NaN</td>\n",
       "    </tr>\n",
       "  </tbody>\n",
       "</table>\n",
       "<p>5 rows × 58 columns</p>\n",
       "</div>"
      ],
      "text/plain": [
       "  iso_code      country  year    co2  consumption_co2  co2_growth_prct  \\\n",
       "0      AFG  Afghanistan  1949  0.015              NaN              NaN   \n",
       "1      AFG  Afghanistan  1950  0.084              NaN            475.0   \n",
       "2      AFG  Afghanistan  1951  0.092              NaN              8.7   \n",
       "3      AFG  Afghanistan  1952  0.092              NaN              0.0   \n",
       "4      AFG  Afghanistan  1953  0.106              NaN             16.0   \n",
       "\n",
       "   co2_growth_abs  trade_co2  co2_per_capita  consumption_co2_per_capita  ...  \\\n",
       "0             NaN        NaN           0.002                         NaN  ...   \n",
       "1           0.070        NaN           0.011                         NaN  ...   \n",
       "2           0.007        NaN           0.012                         NaN  ...   \n",
       "3           0.000        NaN           0.012                         NaN  ...   \n",
       "4           0.015        NaN           0.013                         NaN  ...   \n",
       "\n",
       "   ghg_per_capita  methane  methane_per_capita  nitrous_oxide  \\\n",
       "0             NaN      NaN                 NaN            NaN   \n",
       "1             NaN      NaN                 NaN            NaN   \n",
       "2             NaN      NaN                 NaN            NaN   \n",
       "3             NaN      NaN                 NaN            NaN   \n",
       "4             NaN      NaN                 NaN            NaN   \n",
       "\n",
       "   nitrous_oxide_per_capita  population           gdp  \\\n",
       "0                       NaN   7624058.0           NaN   \n",
       "1                       NaN   7752117.0  9.421400e+09   \n",
       "2                       NaN   7840151.0  9.692280e+09   \n",
       "3                       NaN   7935996.0  1.001732e+10   \n",
       "4                       NaN   8039684.0  1.063052e+10   \n",
       "\n",
       "   primary_energy_consumption  energy_per_capita  energy_per_gdp  \n",
       "0                         NaN                NaN             NaN  \n",
       "1                         NaN                NaN             NaN  \n",
       "2                         NaN                NaN             NaN  \n",
       "3                         NaN                NaN             NaN  \n",
       "4                         NaN                NaN             NaN  \n",
       "\n",
       "[5 rows x 58 columns]"
      ]
     },
     "execution_count": 3,
     "metadata": {},
     "output_type": "execute_result"
    }
   ],
   "source": [
    "#read csv file into dataframe\n",
    "co2_emissions = pd.read_csv(\"Resources/owid-co2-data.csv\")\n",
    "\n",
    "#display dataframe\n",
    "co2_emissions.head()"
   ]
  },
  {
   "cell_type": "code",
   "execution_count": 4,
   "id": "c597d877",
   "metadata": {},
   "outputs": [
    {
     "data": {
      "text/html": [
       "<div>\n",
       "<style scoped>\n",
       "    .dataframe tbody tr th:only-of-type {\n",
       "        vertical-align: middle;\n",
       "    }\n",
       "\n",
       "    .dataframe tbody tr th {\n",
       "        vertical-align: top;\n",
       "    }\n",
       "\n",
       "    .dataframe thead th {\n",
       "        text-align: right;\n",
       "    }\n",
       "</style>\n",
       "<table border=\"1\" class=\"dataframe\">\n",
       "  <thead>\n",
       "    <tr style=\"text-align: right;\">\n",
       "      <th></th>\n",
       "      <th>Country</th>\n",
       "      <th>Year</th>\n",
       "      <th>CO2 per Capita</th>\n",
       "      <th>CO2 Consumption per Capita</th>\n",
       "      <th>Cumulative CO2</th>\n",
       "      <th>CO2 per GDP</th>\n",
       "    </tr>\n",
       "  </thead>\n",
       "  <tbody>\n",
       "    <tr>\n",
       "      <th>66</th>\n",
       "      <td>Afghanistan</td>\n",
       "      <td>2015</td>\n",
       "      <td>0.230</td>\n",
       "      <td>NaN</td>\n",
       "      <td>146.598</td>\n",
       "      <td>0.126</td>\n",
       "    </tr>\n",
       "    <tr>\n",
       "      <th>67</th>\n",
       "      <td>Afghanistan</td>\n",
       "      <td>2016</td>\n",
       "      <td>0.191</td>\n",
       "      <td>NaN</td>\n",
       "      <td>153.343</td>\n",
       "      <td>0.105</td>\n",
       "    </tr>\n",
       "    <tr>\n",
       "      <th>68</th>\n",
       "      <td>Afghanistan</td>\n",
       "      <td>2017</td>\n",
       "      <td>0.189</td>\n",
       "      <td>NaN</td>\n",
       "      <td>160.203</td>\n",
       "      <td>0.100</td>\n",
       "    </tr>\n",
       "    <tr>\n",
       "      <th>69</th>\n",
       "      <td>Afghanistan</td>\n",
       "      <td>2018</td>\n",
       "      <td>0.281</td>\n",
       "      <td>NaN</td>\n",
       "      <td>170.655</td>\n",
       "      <td>0.155</td>\n",
       "    </tr>\n",
       "    <tr>\n",
       "      <th>70</th>\n",
       "      <td>Afghanistan</td>\n",
       "      <td>2019</td>\n",
       "      <td>0.282</td>\n",
       "      <td>NaN</td>\n",
       "      <td>181.376</td>\n",
       "      <td>NaN</td>\n",
       "    </tr>\n",
       "  </tbody>\n",
       "</table>\n",
       "</div>"
      ],
      "text/plain": [
       "        Country  Year  CO2 per Capita  CO2 Consumption per Capita  \\\n",
       "66  Afghanistan  2015           0.230                         NaN   \n",
       "67  Afghanistan  2016           0.191                         NaN   \n",
       "68  Afghanistan  2017           0.189                         NaN   \n",
       "69  Afghanistan  2018           0.281                         NaN   \n",
       "70  Afghanistan  2019           0.282                         NaN   \n",
       "\n",
       "    Cumulative CO2  CO2 per GDP  \n",
       "66         146.598        0.126  \n",
       "67         153.343        0.105  \n",
       "68         160.203        0.100  \n",
       "69         170.655        0.155  \n",
       "70         181.376          NaN  "
      ]
     },
     "execution_count": 4,
     "metadata": {},
     "output_type": "execute_result"
    }
   ],
   "source": [
    "#clean data set for analysis\n",
    "co2_emissions_data = co2_emissions[[\"country\", \"year\",\"co2_per_capita\",\"consumption_co2_per_capita\", \"cumulative_co2\", \"co2_per_gdp\"]]\n",
    "co2_emissions_data = co2_emissions_data.loc[co2_emissions_data[\"year\"] > 2014]\n",
    "co2_emissions_data = co2_emissions_data.rename(columns={\"country\": \"Country\", \"year\": \"Year\", \n",
    "                                                        \"co2_per_capita\":\"CO2 per Capita\",\n",
    "                                                        \"consumption_co2_per_capita\": \"CO2 Consumption per Capita\",\n",
    "                                                        \"cumulative_co2\": \"Cumulative CO2\",\n",
    "                                                        \"co2_per_gdp\": \"CO2 per GDP\"\n",
    "    \n",
    "                                                       })\n",
    "\n",
    "#display dataframe\n",
    "co2_emissions_data.head()"
   ]
  },
  {
   "cell_type": "code",
   "execution_count": 5,
   "id": "efdd3c6f",
   "metadata": {},
   "outputs": [
    {
     "name": "stdout",
     "output_type": "stream",
     "text": [
      "There are 164 in the happiness data and 239 in the co2 emissions data.\n"
     ]
    }
   ],
   "source": [
    "#number of countries in happiness data\n",
    "happy_countries = len(happiness_data[\"Country\"].unique())\n",
    "\n",
    "#number of countries in co2 data\n",
    "co2_countries = len(co2_emissions_data[\"Country\"].unique())\n",
    "\n",
    "#print variables into statement\n",
    "print(f\"There are {happy_countries} in the happiness data and {co2_countries} in the co2 emissions data.\")"
   ]
  },
  {
   "cell_type": "code",
   "execution_count": 6,
   "id": "e2ebfff2",
   "metadata": {},
   "outputs": [
    {
     "data": {
      "text/plain": [
       "array(['Afghanistan', 'Albania', 'Algeria', 'Angola', 'Argentina',\n",
       "       'Armenia', 'Australia', 'Austria', 'Azerbaijan', 'Bahrain',\n",
       "       'Bangladesh', 'Belarus', 'Belgium', 'Belize', 'Benin', 'Bhutan',\n",
       "       'Bolivia', 'Bosnia and Herzegovina', 'Botswana', 'Brazil',\n",
       "       'Bulgaria', 'Burkina Faso', 'Burundi', 'Cambodia', 'Cameroon',\n",
       "       'Canada', 'Central African Republic', 'Chad', 'Chile', 'China',\n",
       "       'Colombia', 'Comoros', 'Congo (Brazzaville)', 'Congo (Kinshasa)',\n",
       "       'Costa Rica', 'Croatia', 'Cyprus', 'Czech Republic', 'Denmark',\n",
       "       'Djibouti', 'Dominican Republic', 'Ecuador', 'Egypt',\n",
       "       'El Salvador', 'Estonia', 'Ethiopia', 'Finland', 'France', 'Gabon',\n",
       "       'Gambia', 'Georgia', 'Germany', 'Ghana', 'Greece', 'Guatemala',\n",
       "       'Guinea', 'Haiti', 'Honduras', 'Hong Kong', 'Hungary', 'Iceland',\n",
       "       'India', 'Indonesia', 'Iran', 'Iraq', 'Ireland', 'Israel', 'Italy',\n",
       "       'Ivory Coast', 'Jamaica', 'Japan', 'Jordan', 'Kazakhstan', 'Kenya',\n",
       "       'Kosovo', 'Kuwait', 'Kyrgyzstan', 'Laos', 'Latvia', 'Lebanon',\n",
       "       'Lesotho', 'Liberia', 'Libya', 'Lithuania', 'Luxembourg',\n",
       "       'Macedonia', 'Madagascar', 'Malawi', 'Malaysia', 'Mali', 'Malta',\n",
       "       'Mauritania', 'Mauritius', 'Mexico', 'Moldova', 'Mongolia',\n",
       "       'Montenegro', 'Morocco', 'Mozambique', 'Myanmar', 'Namibia',\n",
       "       'Nepal', 'Netherlands', 'New Zealand', 'Nicaragua', 'Niger',\n",
       "       'Nigeria', 'Northern Cyprus', 'Norway', 'Oman', 'Pakistan',\n",
       "       'Palestinian Territories', 'Panama', 'Paraguay', 'Peru',\n",
       "       'Philippines', 'Poland', 'Portugal', 'Puerto Rico', 'Qatar',\n",
       "       'Romania', 'Russia', 'Rwanda', 'Saudi Arabia', 'Senegal', 'Serbia',\n",
       "       'Sierra Leone', 'Singapore', 'Slovakia', 'Slovenia', 'Somalia',\n",
       "       'Somaliland region', 'South Africa', 'South Korea', 'South Sudan',\n",
       "       'Spain', 'Sri Lanka', 'Sudan', 'Suriname', 'Swaziland', 'Sweden',\n",
       "       'Switzerland', 'Syria', 'Taiwan', 'Tajikistan', 'Tanzania',\n",
       "       'Thailand', 'Togo', 'Trinidad and Tobago', 'Tunisia', 'Turkey',\n",
       "       'Turkmenistan', 'Uganda', 'Ukraine', 'United Arab Emirates',\n",
       "       'United Kingdom', 'United States', 'Uruguay', 'Uzbekistan',\n",
       "       'Venezuela', 'Vietnam', 'Yemen', 'Zambia', 'Zimbabwe'],\n",
       "      dtype=object)"
      ]
     },
     "execution_count": 6,
     "metadata": {},
     "output_type": "execute_result"
    }
   ],
   "source": [
    "#display countries in happiness data\n",
    "happiness_data[\"Country\"].sort_values().unique()"
   ]
  },
  {
   "cell_type": "code",
   "execution_count": 7,
   "id": "9143d81b",
   "metadata": {},
   "outputs": [
    {
     "data": {
      "text/plain": [
       "array(['Afghanistan', 'Africa', 'Albania', 'Algeria', 'Andorra', 'Angola',\n",
       "       'Anguilla', 'Antarctica', 'Antigua and Barbuda', 'Argentina',\n",
       "       'Armenia', 'Aruba', 'Asia', 'Asia (excl. China & India)',\n",
       "       'Australia', 'Austria', 'Azerbaijan', 'Bahamas', 'Bahrain',\n",
       "       'Bangladesh', 'Barbados', 'Belarus', 'Belgium', 'Belize', 'Benin',\n",
       "       'Bermuda', 'Bhutan', 'Bolivia', 'Bonaire Sint Eustatius and Saba',\n",
       "       'Bosnia and Herzegovina', 'Botswana', 'Brazil',\n",
       "       'British Virgin Islands', 'Brunei', 'Bulgaria', 'Burkina Faso',\n",
       "       'Burundi', 'Cambodia', 'Cameroon', 'Canada', 'Cape Verde',\n",
       "       'Central African Republic', 'Chad', 'Chile', 'China',\n",
       "       'Christmas Island', 'Colombia', 'Comoros', 'Congo', 'Cook Islands',\n",
       "       'Costa Rica', \"Cote d'Ivoire\", 'Croatia', 'Cuba', 'Curacao',\n",
       "       'Cyprus', 'Czechia', 'Democratic Republic of Congo', 'Denmark',\n",
       "       'Djibouti', 'Dominica', 'Dominican Republic', 'EU-27', 'EU-28',\n",
       "       'Ecuador', 'Egypt', 'El Salvador', 'Equatorial Guinea', 'Eritrea',\n",
       "       'Estonia', 'Eswatini', 'Ethiopia', 'Europe',\n",
       "       'Europe (excl. EU-27)', 'Europe (excl. EU-28)', 'Faeroe Islands',\n",
       "       'Fiji', 'Finland', 'France', 'French Equatorial Africa',\n",
       "       'French Polynesia', 'French West Africa', 'Gabon', 'Gambia',\n",
       "       'Georgia', 'Germany', 'Ghana', 'Greece', 'Greenland', 'Grenada',\n",
       "       'Guatemala', 'Guinea', 'Guinea-Bissau', 'Guyana', 'Haiti',\n",
       "       'Honduras', 'Hong Kong', 'Hungary', 'Iceland', 'India',\n",
       "       'Indonesia', 'International transport', 'Iran', 'Iraq', 'Ireland',\n",
       "       'Israel', 'Italy', 'Jamaica', 'Japan', 'Jordan', 'Kazakhstan',\n",
       "       'Kenya', 'Kiribati', 'Kosovo', 'Kuwait', 'Kuwaiti Oil Fires',\n",
       "       'Kyrgyzstan', 'Laos', 'Latvia', 'Lebanon', 'Leeward Islands',\n",
       "       'Lesotho', 'Liberia', 'Libya', 'Liechtenstein', 'Lithuania',\n",
       "       'Luxembourg', 'Macao', 'Madagascar', 'Malawi', 'Malaysia',\n",
       "       'Maldives', 'Mali', 'Malta', 'Marshall Islands', 'Mauritania',\n",
       "       'Mauritius', 'Mexico', 'Micronesia', 'Micronesia (country)',\n",
       "       'Moldova', 'Mongolia', 'Montenegro', 'Montserrat', 'Morocco',\n",
       "       'Mozambique', 'Myanmar', 'Namibia', 'Nauru', 'Nepal',\n",
       "       'Netherlands', 'New Caledonia', 'New Zealand', 'Nicaragua',\n",
       "       'Niger', 'Nigeria', 'Niue', 'North America',\n",
       "       'North America (excl. USA)', 'North Korea', 'North Macedonia',\n",
       "       'Norway', 'Oceania', 'Oman', 'Pakistan', 'Palau', 'Palestine',\n",
       "       'Panama', 'Panama Canal Zone', 'Papua New Guinea', 'Paraguay',\n",
       "       'Peru', 'Philippines', 'Poland', 'Portugal', 'Puerto Rico',\n",
       "       'Qatar', 'Romania', 'Russia', 'Rwanda', 'Ryukyu Islands',\n",
       "       'Saint Helena', 'Saint Kitts and Nevis', 'Saint Lucia',\n",
       "       'Saint Pierre and Miquelon', 'Saint Vincent and the Grenadines',\n",
       "       'Samoa', 'Sao Tome and Principe', 'Saudi Arabia', 'Senegal',\n",
       "       'Serbia', 'Seychelles', 'Sierra Leone', 'Singapore',\n",
       "       'Sint Maarten (Dutch part)', 'Slovakia', 'Slovenia',\n",
       "       'Solomon Islands', 'Somalia', 'South Africa', 'South America',\n",
       "       'South Korea', 'South Sudan', 'Spain', 'Sri Lanka',\n",
       "       'St. Kitts-Nevis-Anguilla', 'Sudan', 'Suriname', 'Sweden',\n",
       "       'Switzerland', 'Syria', 'Taiwan', 'Tajikistan', 'Tanzania',\n",
       "       'Thailand', 'Timor', 'Togo', 'Tonga', 'Trinidad and Tobago',\n",
       "       'Tunisia', 'Turkey', 'Turkmenistan', 'Turks and Caicos Islands',\n",
       "       'Tuvalu', 'Uganda', 'Ukraine', 'United Arab Emirates',\n",
       "       'United Kingdom', 'United States', 'Uruguay', 'Uzbekistan',\n",
       "       'Vanuatu', 'Venezuela', 'Vietnam', 'Wallis and Futuna', 'World',\n",
       "       'Yemen', 'Zambia', 'Zimbabwe'], dtype=object)"
      ]
     },
     "execution_count": 7,
     "metadata": {},
     "output_type": "execute_result"
    }
   ],
   "source": [
    "#display countries in co2 data\n",
    "co2_emissions_data[\"Country\"].sort_values().unique()"
   ]
  },
  {
   "cell_type": "code",
   "execution_count": 8,
   "id": "7191a194",
   "metadata": {},
   "outputs": [
    {
     "data": {
      "text/html": [
       "<div>\n",
       "<style scoped>\n",
       "    .dataframe tbody tr th:only-of-type {\n",
       "        vertical-align: middle;\n",
       "    }\n",
       "\n",
       "    .dataframe tbody tr th {\n",
       "        vertical-align: top;\n",
       "    }\n",
       "\n",
       "    .dataframe thead th {\n",
       "        text-align: right;\n",
       "    }\n",
       "</style>\n",
       "<table border=\"1\" class=\"dataframe\">\n",
       "  <thead>\n",
       "    <tr style=\"text-align: right;\">\n",
       "      <th></th>\n",
       "      <th>Country</th>\n",
       "      <th>Score</th>\n",
       "      <th>Rank</th>\n",
       "      <th>Year</th>\n",
       "      <th>Logged GDP per capita</th>\n",
       "      <th>Social support</th>\n",
       "      <th>Healthy life expectancy</th>\n",
       "      <th>Freedom to make life choices</th>\n",
       "      <th>Generosity</th>\n",
       "      <th>Perceptions of corruption</th>\n",
       "      <th>CO2 per Capita</th>\n",
       "      <th>CO2 Consumption per Capita</th>\n",
       "      <th>Cumulative CO2</th>\n",
       "      <th>CO2 per GDP</th>\n",
       "    </tr>\n",
       "  </thead>\n",
       "  <tbody>\n",
       "    <tr>\n",
       "      <th>0</th>\n",
       "      <td>Switzerland</td>\n",
       "      <td>7.587</td>\n",
       "      <td>1</td>\n",
       "      <td>2015</td>\n",
       "      <td>10.857283</td>\n",
       "      <td>0.953136</td>\n",
       "      <td>72.736862</td>\n",
       "      <td>0.947724</td>\n",
       "      <td>0.080692</td>\n",
       "      <td>0.301402</td>\n",
       "      <td>4.668</td>\n",
       "      <td>14.420</td>\n",
       "      <td>2839.465</td>\n",
       "      <td>0.078</td>\n",
       "    </tr>\n",
       "    <tr>\n",
       "      <th>2</th>\n",
       "      <td>Denmark</td>\n",
       "      <td>7.527</td>\n",
       "      <td>3</td>\n",
       "      <td>2015</td>\n",
       "      <td>10.639521</td>\n",
       "      <td>0.957780</td>\n",
       "      <td>70.323395</td>\n",
       "      <td>0.932365</td>\n",
       "      <td>0.137351</td>\n",
       "      <td>0.200448</td>\n",
       "      <td>6.184</td>\n",
       "      <td>8.890</td>\n",
       "      <td>3918.710</td>\n",
       "      <td>0.139</td>\n",
       "    </tr>\n",
       "    <tr>\n",
       "      <th>3</th>\n",
       "      <td>Norway</td>\n",
       "      <td>7.522</td>\n",
       "      <td>4</td>\n",
       "      <td>2015</td>\n",
       "      <td>11.048872</td>\n",
       "      <td>0.945359</td>\n",
       "      <td>70.705254</td>\n",
       "      <td>0.951669</td>\n",
       "      <td>0.144468</td>\n",
       "      <td>0.388029</td>\n",
       "      <td>8.722</td>\n",
       "      <td>9.390</td>\n",
       "      <td>2424.960</td>\n",
       "      <td>0.106</td>\n",
       "    </tr>\n",
       "    <tr>\n",
       "      <th>4</th>\n",
       "      <td>Canada</td>\n",
       "      <td>7.427</td>\n",
       "      <td>5</td>\n",
       "      <td>2015</td>\n",
       "      <td>10.642016</td>\n",
       "      <td>0.941860</td>\n",
       "      <td>71.443192</td>\n",
       "      <td>0.916792</td>\n",
       "      <td>0.285598</td>\n",
       "      <td>0.444144</td>\n",
       "      <td>15.986</td>\n",
       "      <td>16.134</td>\n",
       "      <td>30813.516</td>\n",
       "      <td>0.368</td>\n",
       "    </tr>\n",
       "    <tr>\n",
       "      <th>5</th>\n",
       "      <td>Finland</td>\n",
       "      <td>7.406</td>\n",
       "      <td>6</td>\n",
       "      <td>2015</td>\n",
       "      <td>10.531513</td>\n",
       "      <td>0.940039</td>\n",
       "      <td>70.846245</td>\n",
       "      <td>0.925070</td>\n",
       "      <td>0.000338</td>\n",
       "      <td>0.310990</td>\n",
       "      <td>8.048</td>\n",
       "      <td>11.878</td>\n",
       "      <td>2971.520</td>\n",
       "      <td>0.219</td>\n",
       "    </tr>\n",
       "  </tbody>\n",
       "</table>\n",
       "</div>"
      ],
      "text/plain": [
       "       Country  Score  Rank  Year  Logged GDP per capita  Social support  \\\n",
       "0  Switzerland  7.587     1  2015              10.857283        0.953136   \n",
       "2      Denmark  7.527     3  2015              10.639521        0.957780   \n",
       "3       Norway  7.522     4  2015              11.048872        0.945359   \n",
       "4       Canada  7.427     5  2015              10.642016        0.941860   \n",
       "5      Finland  7.406     6  2015              10.531513        0.940039   \n",
       "\n",
       "   Healthy life expectancy  Freedom to make life choices  Generosity  \\\n",
       "0                72.736862                      0.947724    0.080692   \n",
       "2                70.323395                      0.932365    0.137351   \n",
       "3                70.705254                      0.951669    0.144468   \n",
       "4                71.443192                      0.916792    0.285598   \n",
       "5                70.846245                      0.925070    0.000338   \n",
       "\n",
       "   Perceptions of corruption  CO2 per Capita  CO2 Consumption per Capita  \\\n",
       "0                   0.301402           4.668                      14.420   \n",
       "2                   0.200448           6.184                       8.890   \n",
       "3                   0.388029           8.722                       9.390   \n",
       "4                   0.444144          15.986                      16.134   \n",
       "5                   0.310990           8.048                      11.878   \n",
       "\n",
       "   Cumulative CO2  CO2 per GDP  \n",
       "0        2839.465        0.078  \n",
       "2        3918.710        0.139  \n",
       "3        2424.960        0.106  \n",
       "4       30813.516        0.368  \n",
       "5        2971.520        0.219  "
      ]
     },
     "execution_count": 8,
     "metadata": {},
     "output_type": "execute_result"
    }
   ],
   "source": [
    "#merge data sets and display dataframe\n",
    "combined_data= pd.merge(happiness_data,co2_emissions_data, how=\"left\",on=[\"Country\", \"Year\"])\n",
    "combined_data.dropna(inplace=True)\n",
    "\n",
    "combined_data.head()"
   ]
  },
  {
   "cell_type": "code",
   "execution_count": 9,
   "id": "badf81b8",
   "metadata": {},
   "outputs": [
    {
     "data": {
      "text/plain": [
       "116"
      ]
     },
     "execution_count": 9,
     "metadata": {},
     "output_type": "execute_result"
    }
   ],
   "source": [
    "number = len((combined_data[\"Country\"]).unique())\n",
    "number"
   ]
  },
  {
   "cell_type": "code",
   "execution_count": 10,
   "id": "b1817512",
   "metadata": {},
   "outputs": [
    {
     "data": {
      "image/png": "[encoded data removed]",
      "text/plain": [
       "<Figure size 432x288 with 1 Axes>"
      ]
     },
     "metadata": {
      "needs_background": "light"
     },
     "output_type": "display_data"
    }
   ],
   "source": [
    "# establish linear regression values\n",
    "model = st.linregress(combined_data[\"CO2 per Capita\"], combined_data[\"Score\"])\n",
    "\n",
    "# linear regression line \n",
    "yvalues = (combined_data[\"CO2 per Capita\"] * model[0]) + model[1]\n",
    "line_eq = \"y = \" + str(round(model[0],2)) + \"x + \" + str(round(model[1],2))\n",
    "r_value = \"r value = \" + str(round(model[2],2))\n",
    "\n",
    "#create scatter plot and plot linear regression line\n",
    "plt.scatter(combined_data[\"CO2 per Capita\"], combined_data[\"Score\"])\n",
    "plt.plot(combined_data[\"CO2 per Capita\"], yvalues, color = \"red\")\n",
    "\n",
    "#axes limits\n",
    "plt.xlim(0,60)\n",
    "plt.ylim(2,8)\n",
    "\n",
    "#labels and annotation\n",
    "plt.title(\"CO2 Emissions vs Happines Score\")\n",
    "plt.xlabel(\"CO2 Emissions per Capita (Mt)\")\n",
    "plt.ylabel(\"Score\")\n",
    "plt.annotate(line_eq,(10,3),fontsize=12,color=\"red\")\n",
    "plt.annotate(r_value, (10,2.5), fontsize=12, color=\"red\")\n",
    "\n",
    "plt.savefig(\"Images/co2_emissions\")\n",
    "\n",
    "plt.show()"
   ]
  },
  {
   "cell_type": "code",
   "execution_count": 11,
   "id": "55f2529d",
   "metadata": {},
   "outputs": [],
   "source": [
    "#Top ranked countries\n",
    "Happiest = combined_data.loc[combined_data[\"Score\"] >= 5.6]\n",
    "\n",
    "#Lowest rank countries\n",
    "Saddest = combined_data.loc[combined_data[\"Score\"] < 5.6]"
   ]
  },
  {
   "cell_type": "code",
   "execution_count": 12,
   "id": "a3250a5c",
   "metadata": {},
   "outputs": [
    {
     "data": {
      "image/png": "[encoded data removed]",
      "text/plain": [
       "<Figure size 432x288 with 1 Axes>"
      ]
     },
     "metadata": {
      "needs_background": "light"
     },
     "output_type": "display_data"
    }
   ],
   "source": [
    "# establish linear regression values\n",
    "model = st.linregress(Happiest[\"CO2 per Capita\"], Happiest[\"Score\"])\n",
    "\n",
    "# linear regression line \n",
    "yvalues = (Happiest[\"CO2 per Capita\"] * model[0]) + model[1]\n",
    "line_eq = \"y = \" + str(round(model[0],3)) + \"x + \" + str(round(model[1],2))\n",
    "r_value = \"r value = \" + str(round(model[2],2))\n",
    "\n",
    "# create scatter plot and plot linear regression line\n",
    "plt.scatter(Happiest[\"CO2 per Capita\"], Happiest[\"Score\"])\n",
    "plt.plot(Happiest[\"CO2 per Capita\"], yvalues, color = \"red\")\n",
    "\n",
    "#axes limits\n",
    "plt.ylim(5,8)\n",
    "plt.xlim(0,40)\n",
    "\n",
    "#labels and annotation\n",
    "plt.title(\"CO2 Emissions vs Happiest Countries\")\n",
    "plt.xlabel (\"CO2 per Capita (Mt)\")\n",
    "plt.ylabel (\"Score\")\n",
    "plt.annotate(line_eq,(5,5.4),fontsize=12,color=\"red\")\n",
    "plt.annotate(r_value, (5,5.2), fontsize=12, color=\"red\")\n",
    "\n",
    "plt.savefig(\"Images/co2_emissions_happy\")\n",
    "\n",
    "#show plot\n",
    "plt.show()"
   ]
  },
  {
   "cell_type": "code",
   "execution_count": 13,
   "id": "0298edea",
   "metadata": {},
   "outputs": [
    {
     "data": {
      "image/png": "[encoded data removed]",
      "text/plain": [
       "<Figure size 432x288 with 1 Axes>"
      ]
     },
     "metadata": {
      "needs_background": "light"
     },
     "output_type": "display_data"
    }
   ],
   "source": [
    "# establish linear regression values\n",
    "model = st.linregress(Saddest[\"CO2 per Capita\"], Saddest[\"Score\"])\n",
    "\n",
    "# linear regression line \n",
    "yvalues = (Saddest[\"CO2 per Capita\"] * model[0]) + model[1]\n",
    "line_eq = \"y = \" + str(round(model[0],2)) + \"x + \" + str(round(model[1],2))\n",
    "r_value = \"r value = \" + str(round(model[2],2))\n",
    "\n",
    "# create scatter plot and plot linear regression line\n",
    "plt.scatter(Saddest[\"CO2 per Capita\"], Saddest[\"Score\"])\n",
    "plt.plot(Saddest[\"CO2 per Capita\"], yvalues, color = \"red\")\n",
    "\n",
    "#axes limits\n",
    "plt.ylim(2,6)\n",
    "plt.xlim(0,20)\n",
    "\n",
    "#labels and annotation\n",
    "plt.title(\"CO2 Emissions vs Unhappiest Countries\")\n",
    "plt.xlabel (\"CO2 per Capita (Mt)\")\n",
    "plt.ylabel (\"Score\")\n",
    "plt.annotate(line_eq,(2.5,2.5),fontsize=12,color=\"red\")\n",
    "plt.annotate(r_value, (2.5,2.25), fontsize=12, color=\"red\")\n",
    "\n",
    "plt.savefig(\"Images/co2_emissions_not_happy\")\n",
    "\n",
    "#show plot\n",
    "plt.show()"
   ]
  },
  {
   "cell_type": "code",
   "execution_count": 14,
   "id": "345cc477",
   "metadata": {},
   "outputs": [
    {
     "data": {
      "image/png": "[encoded data removed]",
      "text/plain": [
       "<Figure size 432x288 with 1 Axes>"
      ]
     },
     "metadata": {
      "needs_background": "light"
     },
     "output_type": "display_data"
    }
   ],
   "source": [
    "# establish linear regression values\n",
    "model = st.linregress(combined_data[\"CO2 Consumption per Capita\"], combined_data[\"Score\"])\n",
    "\n",
    "# linear regression line \n",
    "yvalues = (combined_data[\"CO2 Consumption per Capita\"] * model[0]) + model[1]\n",
    "line_eq = \"y = \" + str(round(model[0],2)) + \"x + \" + str(round(model[1],2))\n",
    "r_value = \"r value = \" + str(round(model[2],2))\n",
    "\n",
    "#create scatter plot and plot linear regression line\n",
    "plt.scatter(combined_data[\"CO2 Consumption per Capita\"], combined_data[\"Score\"])\n",
    "plt.plot(combined_data[\"CO2 Consumption per Capita\"], yvalues, color = \"red\")\n",
    "\n",
    "#axes limits\n",
    "plt.xlim(0,50)\n",
    "plt.ylim(0,8)\n",
    "\n",
    "#labels and annotations\n",
    "plt.title(\"CO2 Consumption vs Happiness Score\")\n",
    "plt.xlabel(\"CO2 Consumption per Capita (Mt)\")\n",
    "plt.ylabel(\"Score\")\n",
    "plt.annotate(line_eq,(10,1.5),fontsize=12,color=\"red\")\n",
    "plt.annotate(r_value, (10,1), fontsize=12, color=\"red\")\n",
    "\n",
    "plt.savefig(\"Images/co2_consumption\")\n",
    "\n",
    "plt.show()"
   ]
  },
  {
   "cell_type": "code",
   "execution_count": 15,
   "id": "d58af351",
   "metadata": {},
   "outputs": [
    {
     "data": {
      "image/png": "[encoded data removed]",
      "text/plain": [
       "<Figure size 432x288 with 1 Axes>"
      ]
     },
     "metadata": {
      "needs_background": "light"
     },
     "output_type": "display_data"
    }
   ],
   "source": [
    "# establish linear regression values\n",
    "model = st.linregress(Happiest[\"CO2 Consumption per Capita\"], Happiest[\"Score\"])\n",
    "\n",
    "# linear regression line \n",
    "yvalues = (Happiest[\"CO2 Consumption per Capita\"] * model[0]) + model[1]\n",
    "line_eq = \"y = \" + str(round(model[0],2)) + \"x + \" + str(round(model[1],2))\n",
    "r_value = \"r value = \" + str(round(model[2],2))\n",
    "\n",
    "#create scatter plot and plot linear regression line\n",
    "plt.scatter(Happiest[\"CO2 Consumption per Capita\"], Happiest[\"Score\"])\n",
    "plt.plot(Happiest[\"CO2 Consumption per Capita\"], yvalues, color = \"red\")\n",
    "\n",
    "#axes limits\n",
    "plt.xlim(0,50)\n",
    "plt.ylim(5,8)\n",
    "\n",
    "#labels and annotations\n",
    "plt.title(\"CO2 Consumption vs Happiest Countries\")\n",
    "plt.xlabel(\"CO2 Consumption per Capita (Mt)\")\n",
    "plt.ylabel(\"Score\")\n",
    "plt.annotate(line_eq,(10,5.4),fontsize=12,color=\"red\")\n",
    "plt.annotate(r_value, (10,5.2), fontsize=12, color=\"red\")\n",
    "\n",
    "plt.savefig(\"Images/co2_consumption_happy\")\n",
    "\n",
    "plt.show()"
   ]
  },
  {
   "cell_type": "code",
   "execution_count": 16,
   "id": "eed3a3d4",
   "metadata": {},
   "outputs": [
    {
     "data": {
      "image/png": "[encoded data removed]",
      "text/plain": [
       "<Figure size 432x288 with 1 Axes>"
      ]
     },
     "metadata": {
      "needs_background": "light"
     },
     "output_type": "display_data"
    }
   ],
   "source": [
    "# establish linear regression values\n",
    "model = st.linregress(Saddest[\"CO2 Consumption per Capita\"], Saddest[\"Score\"])\n",
    "\n",
    "# linear regression line \n",
    "yvalues = (Saddest[\"CO2 Consumption per Capita\"] * model[0]) + model[1]\n",
    "line_eq = \"y = \" + str(round(model[0],2)) + \"x + \" + str(round(model[1],2))\n",
    "r_value = \"r value = \" + str(round(model[2],2))\n",
    "\n",
    "#create scatter plot and plot linear regression line\n",
    "plt.scatter(Saddest[\"CO2 Consumption per Capita\"], Saddest[\"Score\"])\n",
    "plt.plot(Saddest[\"CO2 Consumption per Capita\"], yvalues, color = \"red\")\n",
    "\n",
    "#axes limits\n",
    "plt.xlim(2,6)\n",
    "\n",
    "#labels and annotations\n",
    "plt.title(\"CO2 Consumption vs Unhappiest Countries\")\n",
    "plt.xlabel(\"CO2 Consumption per Capita (Mt)\")\n",
    "plt.ylabel(\"Score\")\n",
    "plt.annotate(line_eq,(2.5,3.25),fontsize=12,color=\"red\")\n",
    "plt.annotate(r_value, (2.5,3), fontsize=12, color=\"red\")\n",
    "\n",
    "plt.savefig(\"Images/co2_consumption_not_happy\")\n",
    "\n",
    "plt.show()"
   ]
  },
  {
   "cell_type": "code",
   "execution_count": 17,
   "id": "6a75772a",
   "metadata": {},
   "outputs": [
    {
     "data": {
      "text/plain": [
       "7.632100105285645"
      ]
     },
     "execution_count": 17,
     "metadata": {},
     "output_type": "execute_result"
    }
   ],
   "source": [
    "combined_data[\"Score\"].max()"
   ]
  },
  {
   "cell_type": "code",
   "execution_count": 18,
   "id": "5647a897",
   "metadata": {},
   "outputs": [
    {
     "data": {
      "text/plain": [
       "2.83899998664856"
      ]
     },
     "execution_count": 18,
     "metadata": {},
     "output_type": "execute_result"
    }
   ],
   "source": [
    "combined_data[\"Score\"].min()"
   ]
  },
  {
   "cell_type": "code",
   "execution_count": 19,
   "id": "7095e583",
   "metadata": {},
   "outputs": [
    {
     "data": {
      "text/plain": [
       "5.671900033950806"
      ]
     },
     "execution_count": 19,
     "metadata": {},
     "output_type": "execute_result"
    }
   ],
   "source": [
    "combined_data[\"Score\"].median()"
   ]
  },
  {
   "cell_type": "code",
   "execution_count": 20,
   "id": "593b6ef1",
   "metadata": {},
   "outputs": [
    {
     "data": {
      "text/plain": [
       "5.600223793213024"
      ]
     },
     "execution_count": 20,
     "metadata": {},
     "output_type": "execute_result"
    }
   ],
   "source": [
    "combined_data[\"Score\"].mean()"
   ]
  },
  {
   "cell_type": "code",
   "execution_count": null,
   "id": "1273de4a",
   "metadata": {},
   "outputs": [],
   "source": []
  }
 ],
 "metadata": {
  "kernelspec": {
   "display_name": "Python 3",
   "language": "python",
   "name": "python3"
  },
  "language_info": {
   "codemirror_mode": {
    "name": "ipython",
    "version": 3
   },
   "file_extension": ".py",
   "mimetype": "text/x-python",
   "name": "python",
   "nbconvert_exporter": "python",
   "pygments_lexer": "ipython3",
   "version": "3.8.8"
  }
 },
 "nbformat": 4,
 "nbformat_minor": 5
}
