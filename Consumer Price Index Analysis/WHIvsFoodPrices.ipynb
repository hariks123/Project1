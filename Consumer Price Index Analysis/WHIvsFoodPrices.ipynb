{
 "cells": [
  {
   "cell_type": "code",
   "execution_count": 1,
   "id": "9635b001",
   "metadata": {},
   "outputs": [],
   "source": [
    "import pandas as pd\n",
    "import matplotlib.pyplot as plt\n",
    "from scipy.stats import linregress"
   ]
  },
  {
   "cell_type": "code",
   "execution_count": 4,
   "id": "0b2aa16c",
   "metadata": {},
   "outputs": [],
   "source": [
    "HappinessData=pd.read_excel('..\\WHRDATA\\WHR2015-21.xlsx') # Import HappinessData"
   ]
  },
  {
   "cell_type": "code",
   "execution_count": 5,
   "id": "56ca8e20",
   "metadata": {},
   "outputs": [
    {
     "data": {
      "text/plain": [
       "1084"
      ]
     },
     "execution_count": 5,
     "metadata": {},
     "output_type": "execute_result"
    }
   ],
   "source": [
    "len(HappinessData) "
   ]
  },
  {
   "cell_type": "code",
   "execution_count": 28,
   "id": "5e8fe34c",
   "metadata": {},
   "outputs": [
    {
     "data": {
      "text/html": [
       "<div>\n",
       "<style scoped>\n",
       "    .dataframe tbody tr th:only-of-type {\n",
       "        vertical-align: middle;\n",
       "    }\n",
       "\n",
       "    .dataframe tbody tr th {\n",
       "        vertical-align: top;\n",
       "    }\n",
       "\n",
       "    .dataframe thead th {\n",
       "        text-align: right;\n",
       "    }\n",
       "</style>\n",
       "<table border=\"1\" class=\"dataframe\">\n",
       "  <thead>\n",
       "    <tr style=\"text-align: right;\">\n",
       "      <th></th>\n",
       "      <th>Country</th>\n",
       "      <th>Score</th>\n",
       "      <th>Rank</th>\n",
       "      <th>Year</th>\n",
       "      <th>Logged GDP per capita</th>\n",
       "      <th>Social support</th>\n",
       "      <th>Healthy life expectancy</th>\n",
       "      <th>Freedom to make life choices</th>\n",
       "      <th>Generosity</th>\n",
       "      <th>Perceptions of corruption</th>\n",
       "    </tr>\n",
       "  </thead>\n",
       "  <tbody>\n",
       "    <tr>\n",
       "      <th>0</th>\n",
       "      <td>Switzerland</td>\n",
       "      <td>7.587</td>\n",
       "      <td>1</td>\n",
       "      <td>2015</td>\n",
       "      <td>10.857283</td>\n",
       "      <td>0.953136</td>\n",
       "      <td>72.736862</td>\n",
       "      <td>0.947724</td>\n",
       "      <td>0.080692</td>\n",
       "      <td>0.301402</td>\n",
       "    </tr>\n",
       "    <tr>\n",
       "      <th>1</th>\n",
       "      <td>Iceland</td>\n",
       "      <td>7.561</td>\n",
       "      <td>2</td>\n",
       "      <td>2015</td>\n",
       "      <td>10.568534</td>\n",
       "      <td>0.975240</td>\n",
       "      <td>72.968559</td>\n",
       "      <td>0.912811</td>\n",
       "      <td>0.257895</td>\n",
       "      <td>0.741834</td>\n",
       "    </tr>\n",
       "    <tr>\n",
       "      <th>2</th>\n",
       "      <td>Denmark</td>\n",
       "      <td>7.527</td>\n",
       "      <td>3</td>\n",
       "      <td>2015</td>\n",
       "      <td>10.639521</td>\n",
       "      <td>0.957780</td>\n",
       "      <td>70.323395</td>\n",
       "      <td>0.932365</td>\n",
       "      <td>0.137351</td>\n",
       "      <td>0.200448</td>\n",
       "    </tr>\n",
       "    <tr>\n",
       "      <th>3</th>\n",
       "      <td>Norway</td>\n",
       "      <td>7.522</td>\n",
       "      <td>4</td>\n",
       "      <td>2015</td>\n",
       "      <td>11.048872</td>\n",
       "      <td>0.945359</td>\n",
       "      <td>70.705254</td>\n",
       "      <td>0.951669</td>\n",
       "      <td>0.144468</td>\n",
       "      <td>0.388029</td>\n",
       "    </tr>\n",
       "    <tr>\n",
       "      <th>4</th>\n",
       "      <td>Canada</td>\n",
       "      <td>7.427</td>\n",
       "      <td>5</td>\n",
       "      <td>2015</td>\n",
       "      <td>10.642016</td>\n",
       "      <td>0.941860</td>\n",
       "      <td>71.443192</td>\n",
       "      <td>0.916792</td>\n",
       "      <td>0.285598</td>\n",
       "      <td>0.444144</td>\n",
       "    </tr>\n",
       "  </tbody>\n",
       "</table>\n",
       "</div>"
      ],
      "text/plain": [
       "       Country  Score  Rank  Year  Logged GDP per capita  Social support  \\\n",
       "0  Switzerland  7.587     1  2015              10.857283        0.953136   \n",
       "1      Iceland  7.561     2  2015              10.568534        0.975240   \n",
       "2      Denmark  7.527     3  2015              10.639521        0.957780   \n",
       "3       Norway  7.522     4  2015              11.048872        0.945359   \n",
       "4       Canada  7.427     5  2015              10.642016        0.941860   \n",
       "\n",
       "   Healthy life expectancy  Freedom to make life choices  Generosity  \\\n",
       "0                72.736862                      0.947724    0.080692   \n",
       "1                72.968559                      0.912811    0.257895   \n",
       "2                70.323395                      0.932365    0.137351   \n",
       "3                70.705254                      0.951669    0.144468   \n",
       "4                71.443192                      0.916792    0.285598   \n",
       "\n",
       "   Perceptions of corruption  \n",
       "0                   0.301402  \n",
       "1                   0.741834  \n",
       "2                   0.200448  \n",
       "3                   0.388029  \n",
       "4                   0.444144  "
      ]
     },
     "execution_count": 28,
     "metadata": {},
     "output_type": "execute_result"
    }
   ],
   "source": [
    "HappinessData.head()"
   ]
  },
  {
   "cell_type": "code",
   "execution_count": 29,
   "id": "91e6a599",
   "metadata": {},
   "outputs": [
    {
     "data": {
      "text/plain": [
       "166"
      ]
     },
     "execution_count": 29,
     "metadata": {},
     "output_type": "execute_result"
    }
   ],
   "source": [
    "CountryList=[x for x in HappinessData['Country'].unique()] #CreateList of Countires with HappinessData\n",
    "len(CountryList)"
   ]
  },
  {
   "cell_type": "code",
   "execution_count": 30,
   "id": "bd242346",
   "metadata": {},
   "outputs": [
    {
     "data": {
      "text/plain": [
       "[2015, 2016, 2017, 2018, 2019, 2020, 2021]"
      ]
     },
     "execution_count": 30,
     "metadata": {},
     "output_type": "execute_result"
    }
   ],
   "source": [
    "WHRYears=[x for x in HappinessData['Year'].unique()] #CreateList of Years with HappinessData\n",
    "WHRYears"
   ]
  },
  {
   "cell_type": "code",
   "execution_count": 31,
   "id": "812cf315",
   "metadata": {},
   "outputs": [
    {
     "data": {
      "text/plain": [
       "2062"
      ]
     },
     "execution_count": 31,
     "metadata": {},
     "output_type": "execute_result"
    }
   ],
   "source": [
    "CPIData=pd.read_csv('UN_Consumer Price Index.csv',skiprows=1) #Import csv file\n",
    "CPIData.columns=['Region','Country','Year','Type','Value','Footnotes','Source'] #Provide header/columns to DataFrame\n",
    "len(CPIData)"
   ]
  },
  {
   "cell_type": "code",
   "execution_count": 32,
   "id": "62bc341b",
   "metadata": {},
   "outputs": [
    {
     "data": {
      "text/html": [
       "<div>\n",
       "<style scoped>\n",
       "    .dataframe tbody tr th:only-of-type {\n",
       "        vertical-align: middle;\n",
       "    }\n",
       "\n",
       "    .dataframe tbody tr th {\n",
       "        vertical-align: top;\n",
       "    }\n",
       "\n",
       "    .dataframe thead th {\n",
       "        text-align: right;\n",
       "    }\n",
       "</style>\n",
       "<table border=\"1\" class=\"dataframe\">\n",
       "  <thead>\n",
       "    <tr style=\"text-align: right;\">\n",
       "      <th></th>\n",
       "      <th>Region</th>\n",
       "      <th>Country</th>\n",
       "      <th>Year</th>\n",
       "      <th>Type</th>\n",
       "      <th>Value</th>\n",
       "      <th>Footnotes</th>\n",
       "      <th>Source</th>\n",
       "    </tr>\n",
       "  </thead>\n",
       "  <tbody>\n",
       "    <tr>\n",
       "      <th>0</th>\n",
       "      <td>4</td>\n",
       "      <td>Afghanistan</td>\n",
       "      <td>2005</td>\n",
       "      <td>Consumer price index: General</td>\n",
       "      <td>71.5821</td>\n",
       "      <td>NaN</td>\n",
       "      <td>United Nations Statistics Division (UNSD), New...</td>\n",
       "    </tr>\n",
       "    <tr>\n",
       "      <th>1</th>\n",
       "      <td>4</td>\n",
       "      <td>Afghanistan</td>\n",
       "      <td>2010</td>\n",
       "      <td>Consumer price index: General</td>\n",
       "      <td>100.0000</td>\n",
       "      <td>NaN</td>\n",
       "      <td>United Nations Statistics Division (UNSD), New...</td>\n",
       "    </tr>\n",
       "    <tr>\n",
       "      <th>2</th>\n",
       "      <td>4</td>\n",
       "      <td>Afghanistan</td>\n",
       "      <td>2015</td>\n",
       "      <td>Consumer price index: General</td>\n",
       "      <td>132.8832</td>\n",
       "      <td>NaN</td>\n",
       "      <td>United Nations Statistics Division (UNSD), New...</td>\n",
       "    </tr>\n",
       "    <tr>\n",
       "      <th>3</th>\n",
       "      <td>4</td>\n",
       "      <td>Afghanistan</td>\n",
       "      <td>2017</td>\n",
       "      <td>Consumer price index: General</td>\n",
       "      <td>145.6107</td>\n",
       "      <td>NaN</td>\n",
       "      <td>United Nations Statistics Division (UNSD), New...</td>\n",
       "    </tr>\n",
       "    <tr>\n",
       "      <th>4</th>\n",
       "      <td>4</td>\n",
       "      <td>Afghanistan</td>\n",
       "      <td>2015</td>\n",
       "      <td>Consumer price index: Food</td>\n",
       "      <td>100.8219</td>\n",
       "      <td>Estimate.</td>\n",
       "      <td>United Nations Statistics Division (UNSD), New...</td>\n",
       "    </tr>\n",
       "  </tbody>\n",
       "</table>\n",
       "</div>"
      ],
      "text/plain": [
       "   Region      Country  Year                           Type     Value  \\\n",
       "0       4  Afghanistan  2005  Consumer price index: General   71.5821   \n",
       "1       4  Afghanistan  2010  Consumer price index: General  100.0000   \n",
       "2       4  Afghanistan  2015  Consumer price index: General  132.8832   \n",
       "3       4  Afghanistan  2017  Consumer price index: General  145.6107   \n",
       "4       4  Afghanistan  2015     Consumer price index: Food  100.8219   \n",
       "\n",
       "   Footnotes                                             Source  \n",
       "0        NaN  United Nations Statistics Division (UNSD), New...  \n",
       "1        NaN  United Nations Statistics Division (UNSD), New...  \n",
       "2        NaN  United Nations Statistics Division (UNSD), New...  \n",
       "3        NaN  United Nations Statistics Division (UNSD), New...  \n",
       "4  Estimate.  United Nations Statistics Division (UNSD), New...  "
      ]
     },
     "execution_count": 32,
     "metadata": {},
     "output_type": "execute_result"
    }
   ],
   "source": [
    "CPIData.head()"
   ]
  },
  {
   "cell_type": "code",
   "execution_count": 33,
   "id": "7563453b",
   "metadata": {},
   "outputs": [
    {
     "data": {
      "text/plain": [
       "array(['Afghanistan', 'Albania', 'Algeria', 'Andorra', 'Angola',\n",
       "       'Anguilla', 'Antigua and Barbuda', 'Argentina', 'Armenia', 'Aruba',\n",
       "       'Australia', 'Austria', 'Azerbaijan', 'Bahamas', 'Bahrain',\n",
       "       'Bangladesh', 'Barbados', 'Belarus', 'Belgium', 'Belize', 'Benin',\n",
       "       'Bhutan', 'Bolivia (Plurin. State of)', 'Bosnia and Herzegovina',\n",
       "       'Botswana', 'Brazil', 'Brunei Darussalam', 'Bulgaria',\n",
       "       'Burkina Faso', 'Burundi', 'Cabo Verde', 'Cambodia', 'Cameroon',\n",
       "       'Canada', 'Cayman Islands', 'Central African Republic', 'Chad',\n",
       "       'Chile', 'China', 'China, Hong Kong SAR', 'China, Macao SAR',\n",
       "       'Colombia', 'Comoros', 'Congo', 'Cook Islands', 'Costa Rica',\n",
       "       'Croatia', 'Curaçao', 'Cyprus', 'Czechia', 'Côte d’Ivoire',\n",
       "       'Dem. Rep. of the Congo', 'Denmark', 'Djibouti', 'Dominica',\n",
       "       'Dominican Republic', 'Ecuador', 'Egypt', 'El Salvador',\n",
       "       'Equatorial Guinea', 'Estonia', 'Eswatini', 'Ethiopia', 'Fiji',\n",
       "       'Finland', 'France', 'French Guiana', 'Gabon', 'Gambia', 'Georgia',\n",
       "       'Germany', 'Ghana', 'Greece', 'Grenada', 'Guadeloupe', 'Guam',\n",
       "       'Guatemala', 'Guinea', 'Guinea-Bissau', 'Guyana', 'Haiti',\n",
       "       'Honduras', 'Hungary', 'Iceland', 'India', 'Indonesia',\n",
       "       'Iran (Islamic Republic of)', 'Iraq', 'Ireland', 'Israel', 'Italy',\n",
       "       'Jamaica', 'Japan', 'Jordan', 'Kazakhstan', 'Kenya', 'Kiribati',\n",
       "       'Kuwait', 'Kyrgyzstan', \"Lao People's Dem. Rep.\", 'Latvia',\n",
       "       'Lebanon', 'Lesotho', 'Liberia', 'Libya', 'Lithuania',\n",
       "       'Luxembourg', 'Madagascar', 'Malawi', 'Malaysia', 'Maldives',\n",
       "       'Mali', 'Malta', 'Martinique', 'Mauritania', 'Mauritius', 'Mexico',\n",
       "       'Micronesia (Fed. States of)', 'Mongolia', 'Montenegro',\n",
       "       'Montserrat', 'Morocco', 'Mozambique', 'Myanmar', 'Namibia',\n",
       "       'Nepal', 'Netherlands', 'New Caledonia', 'New Zealand',\n",
       "       'Nicaragua', 'Niger', 'Nigeria', 'North Macedonia', 'Norway',\n",
       "       'Oman', 'Pakistan', 'Palau', 'Panama', 'Papua New Guinea',\n",
       "       'Paraguay', 'Peru', 'Philippines', 'Poland', 'Portugal',\n",
       "       'Puerto Rico', 'Qatar', 'Republic of Korea', 'Republic of Moldova',\n",
       "       'Romania', 'Russian Federation', 'Rwanda', 'Réunion',\n",
       "       'Saint Kitts and Nevis', 'Saint Lucia',\n",
       "       'Saint Vincent & Grenadines', 'Samoa', 'San Marino',\n",
       "       'Sao Tome and Principe', 'Saudi Arabia', 'Senegal', 'Serbia',\n",
       "       'Seychelles', 'Sierra Leone', 'Singapore', 'Slovakia', 'Slovenia',\n",
       "       'Solomon Islands', 'South Africa', 'South Sudan', 'Spain',\n",
       "       'Sri Lanka', 'State of Palestine', 'Sudan', 'Suriname', 'Sweden',\n",
       "       'Switzerland', 'Syrian Arab Republic', 'Tajikistan', 'Thailand',\n",
       "       'Timor-Leste', 'Togo', 'Tonga', 'Trinidad and Tobago', 'Tunisia',\n",
       "       'Turkey', 'Uganda', 'Ukraine', 'United Arab Emirates',\n",
       "       'United Kingdom', 'United Rep. of Tanzania',\n",
       "       'United States of America', 'Uruguay', 'Uzbekistan', 'Vanuatu',\n",
       "       'Venezuela (Boliv. Rep. of)', 'Viet Nam', 'Yemen', 'Zambia',\n",
       "       'Zimbabwe', 'Åland Islands'], dtype=object)"
      ]
     },
     "execution_count": 33,
     "metadata": {},
     "output_type": "execute_result"
    }
   ],
   "source": [
    "CPIData['Country'].sort_values().unique() #List Unique Countries"
   ]
  },
  {
   "cell_type": "code",
   "execution_count": 34,
   "id": "242e360d",
   "metadata": {},
   "outputs": [],
   "source": [
    "#Cleanup Country Names,replace as per Happiness Data Country Names\n",
    "CPIData.replace('Bolivia (Plurin. State of)','Bolivia',inplace=True)\n",
    "CPIData.replace(['China, Hong Kong SAR', 'China, Macao SAR'],'Hong Kong',inplace=True)\n",
    "CPIData.replace('Congo','Congo (Brazzaville)',inplace=True)\n",
    "CPIData.replace('Dem. Rep. of the Congo','Congo (Kinshasa)',inplace=True)\n",
    "CPIData.replace('Iran (Islamic Republic of)','Iran',inplace=True)"
   ]
  },
  {
   "cell_type": "code",
   "execution_count": 35,
   "id": "ecf4469f",
   "metadata": {},
   "outputs": [],
   "source": [
    "#Cleanup Country Names,replace as per Happiness Data Country Names\n",
    "CPIData.replace(\"Lao People's Dem. Rep.\",\"Laos\",inplace=True)\n",
    "CPIData.replace(\"Republic of Moldova\",\"Moldova\",inplace=True)\n",
    "CPIData.replace(\"Russian Federation\",\"Russia\",inplace=True)\n",
    "CPIData.replace(\"State of Palestine\",\"Palestinian Territories\",inplace=True)\n",
    "CPIData.replace(\"Syrian Arab Republic\",\"Syria\",inplace=True)\n",
    "CPIData.replace(\"United Rep. of Tanzania\",\"Tanzania\",inplace=True)\n",
    "CPIData.replace(\"Venezuela (Boliv. Rep. of)\",\"Venezuela\",inplace=True)\n",
    "CPIData.replace(\"Viet Nam\",\"Vietnam\",inplace=True)"
   ]
  },
  {
   "cell_type": "code",
   "execution_count": 36,
   "id": "22e20ea8",
   "metadata": {},
   "outputs": [],
   "source": [
    "#Filter CPI data for Countires and Years in Happiness Data\n",
    "CPIData=CPIData[(CPIData['Country'].isin(CountryList))&(CPIData['Year'].isin(WHRYears))]"
   ]
  },
  {
   "cell_type": "code",
   "execution_count": 37,
   "id": "ac5c66e3",
   "metadata": {},
   "outputs": [
    {
     "data": {
      "text/plain": [
       "1034"
      ]
     },
     "execution_count": 37,
     "metadata": {},
     "output_type": "execute_result"
    }
   ],
   "source": [
    "len(CPIData)"
   ]
  },
  {
   "cell_type": "code",
   "execution_count": 38,
   "id": "e66fcadf",
   "metadata": {},
   "outputs": [],
   "source": [
    "#Only Analyze Consumer Food Prices\n",
    "CPIData=CPIData[CPIData['Type']=='Consumer price index: Food']"
   ]
  },
  {
   "cell_type": "code",
   "execution_count": 39,
   "id": "d32a69d0",
   "metadata": {},
   "outputs": [
    {
     "data": {
      "text/plain": [
       "482"
      ]
     },
     "execution_count": 39,
     "metadata": {},
     "output_type": "execute_result"
    }
   ],
   "source": [
    "len(CPIData)"
   ]
  },
  {
   "cell_type": "code",
   "execution_count": 40,
   "id": "9d7af245",
   "metadata": {},
   "outputs": [],
   "source": [
    "CPIData=CPIData[['Country','Year','Value']] #Consider only Country Year and CPI values."
   ]
  },
  {
   "cell_type": "code",
   "execution_count": 41,
   "id": "2c5205f1",
   "metadata": {},
   "outputs": [],
   "source": [
    "CPIData.reset_index(drop=True,inplace=True) # Reset Index"
   ]
  },
  {
   "cell_type": "code",
   "execution_count": 42,
   "id": "c9af021c",
   "metadata": {},
   "outputs": [
    {
     "data": {
      "text/html": [
       "<div>\n",
       "<style scoped>\n",
       "    .dataframe tbody tr th:only-of-type {\n",
       "        vertical-align: middle;\n",
       "    }\n",
       "\n",
       "    .dataframe tbody tr th {\n",
       "        vertical-align: top;\n",
       "    }\n",
       "\n",
       "    .dataframe thead th {\n",
       "        text-align: right;\n",
       "    }\n",
       "</style>\n",
       "<table border=\"1\" class=\"dataframe\">\n",
       "  <thead>\n",
       "    <tr style=\"text-align: right;\">\n",
       "      <th></th>\n",
       "      <th>Country</th>\n",
       "      <th>Year</th>\n",
       "      <th>Value</th>\n",
       "    </tr>\n",
       "  </thead>\n",
       "  <tbody>\n",
       "    <tr>\n",
       "      <th>0</th>\n",
       "      <td>Afghanistan</td>\n",
       "      <td>2015</td>\n",
       "      <td>100.8219</td>\n",
       "    </tr>\n",
       "    <tr>\n",
       "      <th>1</th>\n",
       "      <td>Afghanistan</td>\n",
       "      <td>2017</td>\n",
       "      <td>113.9270</td>\n",
       "    </tr>\n",
       "    <tr>\n",
       "      <th>2</th>\n",
       "      <td>Albania</td>\n",
       "      <td>2015</td>\n",
       "      <td>118.8192</td>\n",
       "    </tr>\n",
       "    <tr>\n",
       "      <th>3</th>\n",
       "      <td>Albania</td>\n",
       "      <td>2017</td>\n",
       "      <td>127.3438</td>\n",
       "    </tr>\n",
       "    <tr>\n",
       "      <th>4</th>\n",
       "      <td>Albania</td>\n",
       "      <td>2018</td>\n",
       "      <td>130.7555</td>\n",
       "    </tr>\n",
       "  </tbody>\n",
       "</table>\n",
       "</div>"
      ],
      "text/plain": [
       "       Country  Year     Value\n",
       "0  Afghanistan  2015  100.8219\n",
       "1  Afghanistan  2017  113.9270\n",
       "2      Albania  2015  118.8192\n",
       "3      Albania  2017  127.3438\n",
       "4      Albania  2018  130.7555"
      ]
     },
     "execution_count": 42,
     "metadata": {},
     "output_type": "execute_result"
    }
   ],
   "source": [
    "CPIData.head()"
   ]
  },
  {
   "cell_type": "code",
   "execution_count": 43,
   "id": "93450900",
   "metadata": {},
   "outputs": [
    {
     "data": {
      "text/plain": [
       "[2015, 2017, 2018, 2019]"
      ]
     },
     "execution_count": 43,
     "metadata": {},
     "output_type": "execute_result"
    }
   ],
   "source": [
    "list(CPIData['Year'].unique()) #Unique Years for Which CPI data is available"
   ]
  },
  {
   "cell_type": "code",
   "execution_count": 44,
   "id": "55dc86e9",
   "metadata": {},
   "outputs": [
    {
     "data": {
      "text/plain": [
       "625"
      ]
     },
     "execution_count": 44,
     "metadata": {},
     "output_type": "execute_result"
    }
   ],
   "source": [
    "#Restrict Happines Data to the years for which CPI data is available\n",
    "#Consider Country,Year and Rank columns only\n",
    "HappinessData=HappinessData[HappinessData['Year'].isin(list(CPIData['Year'].unique()))][['Country','Year','Rank','Score']]\n",
    "len(HappinessData)"
   ]
  },
  {
   "cell_type": "code",
   "execution_count": 45,
   "id": "0163d79b",
   "metadata": {},
   "outputs": [
    {
     "data": {
      "text/html": [
       "<div>\n",
       "<style scoped>\n",
       "    .dataframe tbody tr th:only-of-type {\n",
       "        vertical-align: middle;\n",
       "    }\n",
       "\n",
       "    .dataframe tbody tr th {\n",
       "        vertical-align: top;\n",
       "    }\n",
       "\n",
       "    .dataframe thead th {\n",
       "        text-align: right;\n",
       "    }\n",
       "</style>\n",
       "<table border=\"1\" class=\"dataframe\">\n",
       "  <thead>\n",
       "    <tr style=\"text-align: right;\">\n",
       "      <th></th>\n",
       "      <th>Country</th>\n",
       "      <th>Year</th>\n",
       "      <th>Rank</th>\n",
       "      <th>Score</th>\n",
       "    </tr>\n",
       "  </thead>\n",
       "  <tbody>\n",
       "    <tr>\n",
       "      <th>0</th>\n",
       "      <td>Switzerland</td>\n",
       "      <td>2015</td>\n",
       "      <td>1</td>\n",
       "      <td>7.587</td>\n",
       "    </tr>\n",
       "    <tr>\n",
       "      <th>1</th>\n",
       "      <td>Iceland</td>\n",
       "      <td>2015</td>\n",
       "      <td>2</td>\n",
       "      <td>7.561</td>\n",
       "    </tr>\n",
       "    <tr>\n",
       "      <th>2</th>\n",
       "      <td>Denmark</td>\n",
       "      <td>2015</td>\n",
       "      <td>3</td>\n",
       "      <td>7.527</td>\n",
       "    </tr>\n",
       "    <tr>\n",
       "      <th>3</th>\n",
       "      <td>Norway</td>\n",
       "      <td>2015</td>\n",
       "      <td>4</td>\n",
       "      <td>7.522</td>\n",
       "    </tr>\n",
       "    <tr>\n",
       "      <th>4</th>\n",
       "      <td>Canada</td>\n",
       "      <td>2015</td>\n",
       "      <td>5</td>\n",
       "      <td>7.427</td>\n",
       "    </tr>\n",
       "  </tbody>\n",
       "</table>\n",
       "</div>"
      ],
      "text/plain": [
       "       Country  Year  Rank  Score\n",
       "0  Switzerland  2015     1  7.587\n",
       "1      Iceland  2015     2  7.561\n",
       "2      Denmark  2015     3  7.527\n",
       "3       Norway  2015     4  7.522\n",
       "4       Canada  2015     5  7.427"
      ]
     },
     "execution_count": 45,
     "metadata": {},
     "output_type": "execute_result"
    }
   ],
   "source": [
    "HappinessData.head()"
   ]
  },
  {
   "cell_type": "code",
   "execution_count": 70,
   "id": "62c1c693",
   "metadata": {},
   "outputs": [
    {
     "data": {
      "text/html": [
       "<div>\n",
       "<style scoped>\n",
       "    .dataframe tbody tr th:only-of-type {\n",
       "        vertical-align: middle;\n",
       "    }\n",
       "\n",
       "    .dataframe tbody tr th {\n",
       "        vertical-align: top;\n",
       "    }\n",
       "\n",
       "    .dataframe thead th {\n",
       "        text-align: right;\n",
       "    }\n",
       "</style>\n",
       "<table border=\"1\" class=\"dataframe\">\n",
       "  <thead>\n",
       "    <tr style=\"text-align: right;\">\n",
       "      <th></th>\n",
       "      <th>Country</th>\n",
       "      <th>Year</th>\n",
       "      <th>Value</th>\n",
       "      <th>Rank</th>\n",
       "      <th>Score</th>\n",
       "    </tr>\n",
       "  </thead>\n",
       "  <tbody>\n",
       "    <tr>\n",
       "      <th>0</th>\n",
       "      <td>Afghanistan</td>\n",
       "      <td>2015</td>\n",
       "      <td>100.8219</td>\n",
       "      <td>153</td>\n",
       "      <td>3.575</td>\n",
       "    </tr>\n",
       "    <tr>\n",
       "      <th>1</th>\n",
       "      <td>Afghanistan</td>\n",
       "      <td>2017</td>\n",
       "      <td>113.9270</td>\n",
       "      <td>141</td>\n",
       "      <td>3.794</td>\n",
       "    </tr>\n",
       "    <tr>\n",
       "      <th>2</th>\n",
       "      <td>Albania</td>\n",
       "      <td>2015</td>\n",
       "      <td>118.8192</td>\n",
       "      <td>95</td>\n",
       "      <td>4.959</td>\n",
       "    </tr>\n",
       "    <tr>\n",
       "      <th>3</th>\n",
       "      <td>Albania</td>\n",
       "      <td>2017</td>\n",
       "      <td>127.3438</td>\n",
       "      <td>109</td>\n",
       "      <td>4.644</td>\n",
       "    </tr>\n",
       "    <tr>\n",
       "      <th>4</th>\n",
       "      <td>Albania</td>\n",
       "      <td>2018</td>\n",
       "      <td>130.7555</td>\n",
       "      <td>112</td>\n",
       "      <td>4.586</td>\n",
       "    </tr>\n",
       "  </tbody>\n",
       "</table>\n",
       "</div>"
      ],
      "text/plain": [
       "       Country  Year     Value  Rank  Score\n",
       "0  Afghanistan  2015  100.8219   153  3.575\n",
       "1  Afghanistan  2017  113.9270   141  3.794\n",
       "2      Albania  2015  118.8192    95  4.959\n",
       "3      Albania  2017  127.3438   109  4.644\n",
       "4      Albania  2018  130.7555   112  4.586"
      ]
     },
     "execution_count": 70,
     "metadata": {},
     "output_type": "execute_result"
    }
   ],
   "source": [
    "#Merge Happiness Data with CPI data based on Country and Year\n",
    "CombineData= pd.merge(CPIData,HappinessData,on=['Country','Year']) #Merge both the DataFrames on COuntry and Year\n",
    "CombineData.head()"
   ]
  },
  {
   "cell_type": "code",
   "execution_count": 71,
   "id": "f87fb47d",
   "metadata": {},
   "outputs": [
    {
     "data": {
      "text/plain": [
       "464"
      ]
     },
     "execution_count": 71,
     "metadata": {},
     "output_type": "execute_result"
    }
   ],
   "source": [
    "len(CombineData)"
   ]
  },
  {
   "cell_type": "code",
   "execution_count": 72,
   "id": "1b227c9e",
   "metadata": {},
   "outputs": [
    {
     "data": {
      "text/plain": [
       "LinregressResult(slope=2.114845814440782, intercept=90.16281028250503, rvalue=0.05530988360431994, pvalue=0.23439711195968949, stderr=1.7761910050624654, intercept_stderr=148.40363207800772)"
      ]
     },
     "execution_count": 72,
     "metadata": {},
     "output_type": "execute_result"
    }
   ],
   "source": [
    "#Calculate relation between Happiness Rank and Food Price index\n",
    "model=linregress(CombineData['Rank'],CombineData['Value'])\n",
    "model"
   ]
  },
  {
   "cell_type": "code",
   "execution_count": 76,
   "id": "cabe4ca2",
   "metadata": {},
   "outputs": [
    {
     "name": "stdout",
     "output_type": "stream",
     "text": [
      "The r-value is: 0.003001334474343152\n"
     ]
    },
    {
     "data": {
      "image/png": "[encoded data removed]",
      "text/plain": [
       "<Figure size 432x288 with 1 Axes>"
      ]
     },
     "metadata": {
      "needs_background": "light"
     },
     "output_type": "display_data"
    }
   ],
   "source": [
    "model=linregress(CombineData['Value'],CombineData['Score'])\n",
    "regressvalues=CombineData['Value']*model[0]+model[1] #Calculate Linear Regression\n",
    "line_eq= f\"y = {str(round(model[0],2))}x +  {str(round(model[1],2))}\"\n",
    "print(f\"The r-value is: {model[2]**2}\") #Print Rvalue\n",
    "plt.title('Happiness Score vs Food Price Index')\n",
    "plt.scatter(CombineData['Value'],CombineData['Score'])\n",
    "plt.ylabel('Happiness Score')\n",
    "plt.xlabel('Food Price Index')\n",
    "plt.plot(CombineData['Value'],regressvalues,'red')\n",
    "plt.annotate(line_eq,(15000,4),fontsize=15,color='red')\n",
    "plt.tight_layout()\n",
    "plt.show()"
   ]
  },
  {
   "cell_type": "code",
   "execution_count": 77,
   "id": "331cb7ca",
   "metadata": {},
   "outputs": [],
   "source": [
    "#Removing Outliers\n",
    "CombineData=CombineData[CombineData['Value']<800]"
   ]
  },
  {
   "cell_type": "code",
   "execution_count": 78,
   "id": "7ef81636",
   "metadata": {},
   "outputs": [
    {
     "name": "stdout",
     "output_type": "stream",
     "text": [
      "The r-value is: 0.08086145498967384\n"
     ]
    },
    {
     "data": {
      "image/png": "[encoded data removed]",
      "text/plain": [
       "<Figure size 432x288 with 1 Axes>"
      ]
     },
     "metadata": {
      "needs_background": "light"
     },
     "output_type": "display_data"
    }
   ],
   "source": [
    "model=linregress(CombineData['Value'],CombineData['Score'])\n",
    "regressvalues=CombineData['Value']*model[0]+model[1] #Calculate Linear Regression\n",
    "line_eq= f\"y = {str(round(model[0],2))}x +  {str(round(model[1],2))}\"\n",
    "print(f\"The r-value is: {model[2]**2}\") #Print Rvalue\n",
    "plt.title('Happiness Score vs Food Price Index')\n",
    "plt.scatter(CombineData['Value'],CombineData['Score'])\n",
    "plt.ylabel('Happiness Score')\n",
    "plt.xlabel('Food Price Index')\n",
    "plt.plot(CombineData['Value'],regressvalues,'red')\n",
    "plt.annotate(line_eq,(300,3),fontsize=15,color='red')\n",
    "#plt.tight_layout()\n",
    "plt.show()"
   ]
  },
  {
   "cell_type": "code",
   "execution_count": 79,
   "id": "2f722638",
   "metadata": {},
   "outputs": [],
   "source": [
    "# Top 10 Ranks by Happiness Index\n",
    "TopRanks=pd.DataFrame({'Ranks':CombineData.sort_values('Rank')['Rank'].unique()}).head(10)['Ranks']\n",
    "# Bottom 10 Ranks by Happiness Index\n",
    "BottomRanks=pd.DataFrame({'Ranks':CombineData.sort_values('Rank',ascending=False)['Rank'].unique()}).head(10)['Ranks']"
   ]
  },
  {
   "cell_type": "code",
   "execution_count": 80,
   "id": "f47a8a95",
   "metadata": {},
   "outputs": [],
   "source": [
    "#Data of countries at top of Happiniess Index Rank\n",
    "TopCombinedData=CombineData[CombineData['Rank'].isin(TopRanks)]\n",
    "#Data of countries at Bottom of Happiniess Index Rank\n",
    "BottomCombinedData=CombineData[CombineData['Rank'].isin(BottomRanks)]"
   ]
  },
  {
   "cell_type": "code",
   "execution_count": 83,
   "id": "2d7af19a",
   "metadata": {},
   "outputs": [
    {
     "data": {
      "image/png": "[encoded data removed]",
      "text/plain": [
       "<Figure size 432x288 with 1 Axes>"
      ]
     },
     "metadata": {
      "needs_background": "light"
     },
     "output_type": "display_data"
    }
   ],
   "source": [
    "plt.scatter(TopCombinedData['Value'],TopCombinedData['Score'])\n",
    "plt.title('Happiness Score vs Food Price Index for Top 10 Ranks')\n",
    "plt.ylabel('Happiness Score')\n",
    "plt.xlabel('Food Price Index')\n",
    "plt.show()"
   ]
  },
  {
   "cell_type": "code",
   "execution_count": 84,
   "id": "03e9217e",
   "metadata": {},
   "outputs": [
    {
     "data": {
      "image/png": "[encoded data removed]",
      "text/plain": [
       "<Figure size 432x288 with 1 Axes>"
      ]
     },
     "metadata": {
      "needs_background": "light"
     },
     "output_type": "display_data"
    }
   ],
   "source": [
    "plt.scatter(BottomCombinedData['Value'],BottomCombinedData['Score'])\n",
    "plt.title('Happiness Score vs Food Price Index for Bottom 10 Ranks')\n",
    "plt.ylabel('Happiness Score')\n",
    "plt.xlabel('Food Price Index')\n",
    "plt.show()"
   ]
  },
  {
   "cell_type": "code",
   "execution_count": null,
   "id": "3cb10263",
   "metadata": {},
   "outputs": [],
   "source": []
  }
 ],
 "metadata": {
  "kernelspec": {
   "display_name": "Python 3",
   "language": "python",
   "name": "python3"
  },
  "language_info": {
   "codemirror_mode": {
    "name": "ipython",
    "version": 3
   },
   "file_extension": ".py",
   "mimetype": "text/x-python",
   "name": "python",
   "nbconvert_exporter": "python",
   "pygments_lexer": "ipython3",
   "version": "3.8.2"
  }
 },
 "nbformat": 4,
 "nbformat_minor": 5
}
