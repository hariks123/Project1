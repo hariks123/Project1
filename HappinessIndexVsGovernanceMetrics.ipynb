{
 "cells": [
  {
   "cell_type": "code",
   "execution_count": 1,
   "id": "e539f84a",
   "metadata": {},
   "outputs": [],
   "source": [
    "import pandas as pd\n",
    "import matplotlib.pyplot as plt\n",
    "from scipy.stats import linregress"
   ]
  },
  {
   "cell_type": "code",
   "execution_count": 2,
   "id": "a548fae7",
   "metadata": {},
   "outputs": [],
   "source": [
    "df=pd.read_stata('wgidataset.dta') # Read WorldGovernence Metrics.Data is in STATA formt."
   ]
  },
  {
   "cell_type": "code",
   "execution_count": 3,
   "id": "620edf57",
   "metadata": {},
   "outputs": [
    {
     "data": {
      "text/plain": [
       "4708"
      ]
     },
     "execution_count": 3,
     "metadata": {},
     "output_type": "execute_result"
    }
   ],
   "source": [
    "len(df)"
   ]
  },
  {
   "cell_type": "code",
   "execution_count": 4,
   "id": "a631ae5a",
   "metadata": {},
   "outputs": [
    {
     "data": {
      "text/html": [
       "<div>\n",
       "<style scoped>\n",
       "    .dataframe tbody tr th:only-of-type {\n",
       "        vertical-align: middle;\n",
       "    }\n",
       "\n",
       "    .dataframe tbody tr th {\n",
       "        vertical-align: top;\n",
       "    }\n",
       "\n",
       "    .dataframe thead th {\n",
       "        text-align: right;\n",
       "    }\n",
       "</style>\n",
       "<table border=\"1\" class=\"dataframe\">\n",
       "  <thead>\n",
       "    <tr style=\"text-align: right;\">\n",
       "      <th></th>\n",
       "      <th>code</th>\n",
       "      <th>countryname</th>\n",
       "      <th>year</th>\n",
       "      <th>vae</th>\n",
       "      <th>vas</th>\n",
       "      <th>van</th>\n",
       "      <th>var</th>\n",
       "      <th>val</th>\n",
       "      <th>vau</th>\n",
       "      <th>pve</th>\n",
       "      <th>...</th>\n",
       "      <th>rln</th>\n",
       "      <th>rlr</th>\n",
       "      <th>rll</th>\n",
       "      <th>rlu</th>\n",
       "      <th>cce</th>\n",
       "      <th>ccs</th>\n",
       "      <th>ccn</th>\n",
       "      <th>ccr</th>\n",
       "      <th>ccl</th>\n",
       "      <th>ccu</th>\n",
       "    </tr>\n",
       "  </thead>\n",
       "  <tbody>\n",
       "    <tr>\n",
       "      <th>0</th>\n",
       "      <td>ABW</td>\n",
       "      <td>Aruba</td>\n",
       "      <td>1996</td>\n",
       "      <td>NaN</td>\n",
       "      <td>NaN</td>\n",
       "      <td>NaN</td>\n",
       "      <td>NaN</td>\n",
       "      <td>NaN</td>\n",
       "      <td>NaN</td>\n",
       "      <td>NaN</td>\n",
       "      <td>...</td>\n",
       "      <td>NaN</td>\n",
       "      <td>NaN</td>\n",
       "      <td>NaN</td>\n",
       "      <td>NaN</td>\n",
       "      <td>NaN</td>\n",
       "      <td>NaN</td>\n",
       "      <td>NaN</td>\n",
       "      <td>NaN</td>\n",
       "      <td>NaN</td>\n",
       "      <td>NaN</td>\n",
       "    </tr>\n",
       "    <tr>\n",
       "      <th>1</th>\n",
       "      <td>ABW</td>\n",
       "      <td>Aruba</td>\n",
       "      <td>1998</td>\n",
       "      <td>NaN</td>\n",
       "      <td>NaN</td>\n",
       "      <td>NaN</td>\n",
       "      <td>NaN</td>\n",
       "      <td>NaN</td>\n",
       "      <td>NaN</td>\n",
       "      <td>NaN</td>\n",
       "      <td>...</td>\n",
       "      <td>NaN</td>\n",
       "      <td>NaN</td>\n",
       "      <td>NaN</td>\n",
       "      <td>NaN</td>\n",
       "      <td>NaN</td>\n",
       "      <td>NaN</td>\n",
       "      <td>NaN</td>\n",
       "      <td>NaN</td>\n",
       "      <td>NaN</td>\n",
       "      <td>NaN</td>\n",
       "    </tr>\n",
       "    <tr>\n",
       "      <th>2</th>\n",
       "      <td>ABW</td>\n",
       "      <td>Aruba</td>\n",
       "      <td>2000</td>\n",
       "      <td>NaN</td>\n",
       "      <td>NaN</td>\n",
       "      <td>NaN</td>\n",
       "      <td>NaN</td>\n",
       "      <td>NaN</td>\n",
       "      <td>NaN</td>\n",
       "      <td>NaN</td>\n",
       "      <td>...</td>\n",
       "      <td>NaN</td>\n",
       "      <td>NaN</td>\n",
       "      <td>NaN</td>\n",
       "      <td>NaN</td>\n",
       "      <td>NaN</td>\n",
       "      <td>NaN</td>\n",
       "      <td>NaN</td>\n",
       "      <td>NaN</td>\n",
       "      <td>NaN</td>\n",
       "      <td>NaN</td>\n",
       "    </tr>\n",
       "    <tr>\n",
       "      <th>3</th>\n",
       "      <td>ABW</td>\n",
       "      <td>Aruba</td>\n",
       "      <td>2002</td>\n",
       "      <td>NaN</td>\n",
       "      <td>NaN</td>\n",
       "      <td>NaN</td>\n",
       "      <td>NaN</td>\n",
       "      <td>NaN</td>\n",
       "      <td>NaN</td>\n",
       "      <td>NaN</td>\n",
       "      <td>...</td>\n",
       "      <td>NaN</td>\n",
       "      <td>NaN</td>\n",
       "      <td>NaN</td>\n",
       "      <td>NaN</td>\n",
       "      <td>NaN</td>\n",
       "      <td>NaN</td>\n",
       "      <td>NaN</td>\n",
       "      <td>NaN</td>\n",
       "      <td>NaN</td>\n",
       "      <td>NaN</td>\n",
       "    </tr>\n",
       "    <tr>\n",
       "      <th>4</th>\n",
       "      <td>ABW</td>\n",
       "      <td>Aruba</td>\n",
       "      <td>2003</td>\n",
       "      <td>NaN</td>\n",
       "      <td>NaN</td>\n",
       "      <td>NaN</td>\n",
       "      <td>NaN</td>\n",
       "      <td>NaN</td>\n",
       "      <td>NaN</td>\n",
       "      <td>NaN</td>\n",
       "      <td>...</td>\n",
       "      <td>NaN</td>\n",
       "      <td>NaN</td>\n",
       "      <td>NaN</td>\n",
       "      <td>NaN</td>\n",
       "      <td>NaN</td>\n",
       "      <td>NaN</td>\n",
       "      <td>NaN</td>\n",
       "      <td>NaN</td>\n",
       "      <td>NaN</td>\n",
       "      <td>NaN</td>\n",
       "    </tr>\n",
       "  </tbody>\n",
       "</table>\n",
       "<p>5 rows × 39 columns</p>\n",
       "</div>"
      ],
      "text/plain": [
       "  code countryname  year  vae  vas  van  var  val  vau  pve  ...  rln  rlr  \\\n",
       "0  ABW       Aruba  1996  NaN  NaN  NaN  NaN  NaN  NaN  NaN  ...  NaN  NaN   \n",
       "1  ABW       Aruba  1998  NaN  NaN  NaN  NaN  NaN  NaN  NaN  ...  NaN  NaN   \n",
       "2  ABW       Aruba  2000  NaN  NaN  NaN  NaN  NaN  NaN  NaN  ...  NaN  NaN   \n",
       "3  ABW       Aruba  2002  NaN  NaN  NaN  NaN  NaN  NaN  NaN  ...  NaN  NaN   \n",
       "4  ABW       Aruba  2003  NaN  NaN  NaN  NaN  NaN  NaN  NaN  ...  NaN  NaN   \n",
       "\n",
       "   rll  rlu  cce  ccs  ccn  ccr  ccl  ccu  \n",
       "0  NaN  NaN  NaN  NaN  NaN  NaN  NaN  NaN  \n",
       "1  NaN  NaN  NaN  NaN  NaN  NaN  NaN  NaN  \n",
       "2  NaN  NaN  NaN  NaN  NaN  NaN  NaN  NaN  \n",
       "3  NaN  NaN  NaN  NaN  NaN  NaN  NaN  NaN  \n",
       "4  NaN  NaN  NaN  NaN  NaN  NaN  NaN  NaN  \n",
       "\n",
       "[5 rows x 39 columns]"
      ]
     },
     "execution_count": 4,
     "metadata": {},
     "output_type": "execute_result"
    }
   ],
   "source": [
    "df.head()"
   ]
  },
  {
   "cell_type": "code",
   "execution_count": 5,
   "id": "bf7a5d6d",
   "metadata": {},
   "outputs": [
    {
     "data": {
      "text/plain": [
       "1284"
      ]
     },
     "execution_count": 5,
     "metadata": {},
     "output_type": "execute_result"
    }
   ],
   "source": [
    "# Select data for those yeras for Which we have Happiness Data\n",
    "df=df[df['year'].isin([2015,2016,2017,2018,2019,2020])]\n",
    "len(df)"
   ]
  },
  {
   "cell_type": "code",
   "execution_count": 7,
   "id": "6bf2ecd6",
   "metadata": {},
   "outputs": [
    {
     "data": {
      "text/plain": [
       "Index(['code', 'countryname', 'year', 'vae', 'vas', 'van', 'var', 'val', 'vau',\n",
       "       'pve', 'pvs', 'pvn', 'pvr', 'pvl', 'pvu', 'gee', 'ges', 'gen', 'ger',\n",
       "       'gel', 'geu', 'rqe', 'rqs', 'rqn', 'rqr', 'rql', 'rqu', 'rle', 'rls',\n",
       "       'rln', 'rlr', 'rll', 'rlu', 'cce', 'ccs', 'ccn', 'ccr', 'ccl', 'ccu'],\n",
       "      dtype='object')"
      ]
     },
     "execution_count": 7,
     "metadata": {},
     "output_type": "execute_result"
    }
   ],
   "source": [
    "df.columns"
   ]
  },
  {
   "cell_type": "code",
   "execution_count": 8,
   "id": "a9625cc9",
   "metadata": {},
   "outputs": [],
   "source": [
    "# Select Country code,name, year and various types of ranks.\n",
    "df=df[['code', 'countryname', 'year','var','pvr','ger','rqr','rlr','ccr']] "
   ]
  },
  {
   "cell_type": "code",
   "execution_count": 9,
   "id": "93c7f2a1",
   "metadata": {},
   "outputs": [
    {
     "data": {
      "text/html": [
       "<div>\n",
       "<style scoped>\n",
       "    .dataframe tbody tr th:only-of-type {\n",
       "        vertical-align: middle;\n",
       "    }\n",
       "\n",
       "    .dataframe tbody tr th {\n",
       "        vertical-align: top;\n",
       "    }\n",
       "\n",
       "    .dataframe thead th {\n",
       "        text-align: right;\n",
       "    }\n",
       "</style>\n",
       "<table border=\"1\" class=\"dataframe\">\n",
       "  <thead>\n",
       "    <tr style=\"text-align: right;\">\n",
       "      <th></th>\n",
       "      <th>code</th>\n",
       "      <th>countryname</th>\n",
       "      <th>year</th>\n",
       "      <th>var</th>\n",
       "      <th>pvr</th>\n",
       "      <th>ger</th>\n",
       "      <th>rqr</th>\n",
       "      <th>rlr</th>\n",
       "      <th>ccr</th>\n",
       "    </tr>\n",
       "  </thead>\n",
       "  <tbody>\n",
       "    <tr>\n",
       "      <th>0</th>\n",
       "      <td>ABW</td>\n",
       "      <td>Aruba</td>\n",
       "      <td>2015</td>\n",
       "      <td>91.625618</td>\n",
       "      <td>93.333336</td>\n",
       "      <td>76.442307</td>\n",
       "      <td>90.384613</td>\n",
       "      <td>85.576920</td>\n",
       "      <td>88.942307</td>\n",
       "    </tr>\n",
       "    <tr>\n",
       "      <th>1</th>\n",
       "      <td>ABW</td>\n",
       "      <td>Aruba</td>\n",
       "      <td>2016</td>\n",
       "      <td>92.118225</td>\n",
       "      <td>94.285713</td>\n",
       "      <td>76.923080</td>\n",
       "      <td>88.942307</td>\n",
       "      <td>87.019234</td>\n",
       "      <td>89.423080</td>\n",
       "    </tr>\n",
       "    <tr>\n",
       "      <th>2</th>\n",
       "      <td>ABW</td>\n",
       "      <td>Aruba</td>\n",
       "      <td>2017</td>\n",
       "      <td>92.610840</td>\n",
       "      <td>95.714287</td>\n",
       "      <td>78.365387</td>\n",
       "      <td>84.134613</td>\n",
       "      <td>87.019234</td>\n",
       "      <td>88.461540</td>\n",
       "    </tr>\n",
       "    <tr>\n",
       "      <th>3</th>\n",
       "      <td>ABW</td>\n",
       "      <td>Aruba</td>\n",
       "      <td>2018</td>\n",
       "      <td>90.821259</td>\n",
       "      <td>95.754715</td>\n",
       "      <td>80.288460</td>\n",
       "      <td>77.884613</td>\n",
       "      <td>87.019234</td>\n",
       "      <td>87.019234</td>\n",
       "    </tr>\n",
       "    <tr>\n",
       "      <th>4</th>\n",
       "      <td>ABW</td>\n",
       "      <td>Aruba</td>\n",
       "      <td>2019</td>\n",
       "      <td>91.787437</td>\n",
       "      <td>95.754715</td>\n",
       "      <td>80.288460</td>\n",
       "      <td>75.961540</td>\n",
       "      <td>86.538460</td>\n",
       "      <td>85.576920</td>\n",
       "    </tr>\n",
       "  </tbody>\n",
       "</table>\n",
       "</div>"
      ],
      "text/plain": [
       "  code countryname  year        var        pvr        ger        rqr  \\\n",
       "0  ABW       Aruba  2015  91.625618  93.333336  76.442307  90.384613   \n",
       "1  ABW       Aruba  2016  92.118225  94.285713  76.923080  88.942307   \n",
       "2  ABW       Aruba  2017  92.610840  95.714287  78.365387  84.134613   \n",
       "3  ABW       Aruba  2018  90.821259  95.754715  80.288460  77.884613   \n",
       "4  ABW       Aruba  2019  91.787437  95.754715  80.288460  75.961540   \n",
       "\n",
       "         rlr        ccr  \n",
       "0  85.576920  88.942307  \n",
       "1  87.019234  89.423080  \n",
       "2  87.019234  88.461540  \n",
       "3  87.019234  87.019234  \n",
       "4  86.538460  85.576920  "
      ]
     },
     "execution_count": 9,
     "metadata": {},
     "output_type": "execute_result"
    }
   ],
   "source": [
    "df.reset_index(inplace=True,drop=True) #Reset Index and Drop the columns\n",
    "df.head()"
   ]
  },
  {
   "cell_type": "code",
   "execution_count": 6,
   "id": "123a3456",
   "metadata": {},
   "outputs": [],
   "source": [
    "#Read Happiness Data\n",
    "HappinessData=pd.read_excel('WHRDATA\\WHR2015-21.xlsx')"
   ]
  },
  {
   "cell_type": "code",
   "execution_count": 15,
   "id": "2edc3c48",
   "metadata": {},
   "outputs": [
    {
     "data": {
      "text/plain": [
       "array(['Afghanistan', 'Albania', 'Algeria', 'Angola', 'Argentina',\n",
       "       'Armenia', 'Australia', 'Austria', 'Azerbaijan', 'Bahrain',\n",
       "       'Bangladesh', 'Belarus', 'Belgium', 'Belize', 'Benin', 'Bhutan',\n",
       "       'Bolivia', 'Bosnia and Herzegovina', 'Botswana', 'Brazil',\n",
       "       'Bulgaria', 'Burkina Faso', 'Burundi', 'Cambodia', 'Cameroon',\n",
       "       'Canada', 'Central African Republic', 'Chad', 'Chile', 'China',\n",
       "       'Colombia', 'Comoros', 'Congo (Brazzaville)', 'Congo (Kinshasa)',\n",
       "       'Costa Rica', 'Croatia', 'Cyprus', 'Czech Republic', 'Denmark',\n",
       "       'Djibouti', 'Dominican Republic', 'Ecuador', 'Egypt',\n",
       "       'El Salvador', 'Estonia', 'Ethiopia', 'Finland', 'France', 'Gabon',\n",
       "       'Gambia', 'Georgia', 'Germany', 'Ghana', 'Greece', 'Guatemala',\n",
       "       'Guinea', 'Haiti', 'Honduras', 'Hong Kong', 'Hungary', 'Iceland',\n",
       "       'India', 'Indonesia', 'Iran', 'Iraq', 'Ireland', 'Israel', 'Italy',\n",
       "       'Ivory Coast', 'Jamaica', 'Japan', 'Jordan', 'Kazakhstan', 'Kenya',\n",
       "       'Kosovo', 'Kuwait', 'Kyrgyzstan', 'Laos', 'Latvia', 'Lebanon',\n",
       "       'Lesotho', 'Liberia', 'Libya', 'Lithuania', 'Luxembourg',\n",
       "       'Macedonia', 'Madagascar', 'Malawi', 'Malaysia', 'Maldives',\n",
       "       'Mali', 'Malta', 'Mauritania', 'Mauritius', 'Mexico', 'Moldova',\n",
       "       'Mongolia', 'Montenegro', 'Morocco', 'Mozambique', 'Myanmar',\n",
       "       'Namibia', 'Nepal', 'Netherlands', 'New Zealand', 'Nicaragua',\n",
       "       'Niger', 'Nigeria', 'North Macedonia', 'Northern Cyprus', 'Norway',\n",
       "       'Oman', 'Pakistan', 'Palestinian Territories', 'Panama',\n",
       "       'Paraguay', 'Peru', 'Philippines', 'Poland', 'Portugal',\n",
       "       'Puerto Rico', 'Qatar', 'Romania', 'Russia', 'Rwanda',\n",
       "       'Saudi Arabia', 'Senegal', 'Serbia', 'Sierra Leone', 'Singapore',\n",
       "       'Slovakia', 'Slovenia', 'Somalia', 'Somaliland region',\n",
       "       'South Africa', 'South Korea', 'South Sudan', 'Spain', 'Sri Lanka',\n",
       "       'Sudan', 'Suriname', 'Swaziland', 'Sweden', 'Switzerland', 'Syria',\n",
       "       'Taiwan', 'Tajikistan', 'Tanzania', 'Thailand', 'Togo',\n",
       "       'Trinidad and Tobago', 'Tunisia', 'Turkey', 'Turkmenistan',\n",
       "       'Uganda', 'Ukraine', 'United Arab Emirates', 'United Kingdom',\n",
       "       'United States', 'Uruguay', 'Uzbekistan', 'Venezuela', 'Vietnam',\n",
       "       'Yemen', 'Zambia', 'Zimbabwe'], dtype=object)"
      ]
     },
     "execution_count": 15,
     "metadata": {},
     "output_type": "execute_result"
    }
   ],
   "source": [
    "#Get unique country names\n",
    "HappinessData['Country'].sort_values().unique()"
   ]
  },
  {
   "cell_type": "code",
   "execution_count": 7,
   "id": "a4105f3f",
   "metadata": {},
   "outputs": [
    {
     "data": {
      "text/plain": [
       "array(['Afghanistan', 'Albania', 'Algeria', 'American Samoa', 'Andorra',\n",
       "       'Angola', 'Anguilla', 'Antigua and Barbuda', 'Argentina',\n",
       "       'Armenia', 'Aruba', 'Australia', 'Austria', 'Azerbaijan',\n",
       "       'Bahamas, The', 'Bahrain', 'Bangladesh', 'Barbados', 'Belarus',\n",
       "       'Belgium', 'Belize', 'Benin', 'Bermuda', 'Bhutan', 'Bolivia',\n",
       "       'Bosnia and Herzegovina', 'Botswana', 'Brazil',\n",
       "       'Brunei Darussalam', 'Bulgaria', 'Burkina Faso', 'Burundi',\n",
       "       'Cambodia', 'Cameroon', 'Canada', 'Cape Verde', 'Cayman Islands',\n",
       "       'Central African Republic', 'Chad', 'Chile', 'China', 'Colombia',\n",
       "       'Comoros', 'Congo, Dem. Rep.', 'Congo, Rep.', 'Cook Islands',\n",
       "       'Costa Rica', 'Croatia', 'Cuba', 'Cyprus', 'Czech Republic',\n",
       "       \"Côte d'Ivoire\", 'Denmark', 'Djibouti', 'Dominica',\n",
       "       'Dominican Republic', 'Ecuador', 'Egypt, Arab Rep.', 'El Salvador',\n",
       "       'Equatorial Guinea', 'Eritrea', 'Estonia', 'Eswatini', 'Ethiopia',\n",
       "       'Fiji', 'Finland', 'France', 'French Guiana', 'Gabon',\n",
       "       'Gambia, The', 'Georgia', 'Germany', 'Ghana', 'Greece',\n",
       "       'Greenland', 'Grenada', 'Guam', 'Guatemala', 'Guinea',\n",
       "       'Guinea-Bissau', 'Guyana', 'Haiti', 'Honduras',\n",
       "       'Hong Kong SAR, China', 'Hungary', 'Iceland', 'India', 'Indonesia',\n",
       "       'Iran, Islamic Rep.', 'Iraq', 'Ireland', 'Israel', 'Italy',\n",
       "       'Jamaica', 'Japan', 'Jersey, Channel Islands', 'Jordan',\n",
       "       'Kazakhstan', 'Kenya', 'Kiribati', 'Korea, Dem. Rep.',\n",
       "       'Korea, Rep.', 'Kosovo', 'Kuwait', 'Kyrgyz Republic', 'Lao PDR',\n",
       "       'Latvia', 'Lebanon', 'Lesotho', 'Liberia', 'Libya',\n",
       "       'Liechtenstein', 'Lithuania', 'Luxembourg', 'Macao SAR, China',\n",
       "       'Madagascar', 'Malawi', 'Malaysia', 'Maldives', 'Mali', 'Malta',\n",
       "       'Marshall Islands', 'Martinique', 'Mauritania', 'Mauritius',\n",
       "       'Mexico', 'Micronesia, Fed. Sts.', 'Moldova', 'Monaco', 'Mongolia',\n",
       "       'Montenegro', 'Morocco', 'Mozambique', 'Myanmar', 'Namibia',\n",
       "       'Nauru', 'Nepal', 'Netherlands', 'Netherlands Antilles (former)',\n",
       "       'New Zealand', 'Nicaragua', 'Niger', 'Nigeria', 'Niue',\n",
       "       'North Macedonia', 'Norway', 'Oman', 'Pakistan', 'Palau', 'Panama',\n",
       "       'Papua New Guinea', 'Paraguay', 'Peru', 'Philippines', 'Poland',\n",
       "       'Portugal', 'Puerto Rico', 'Qatar', 'Romania',\n",
       "       'Russian Federation', 'Rwanda', 'Réunion', 'Samoa', 'San Marino',\n",
       "       'Saudi Arabia', 'Senegal', 'Serbia', 'Seychelles', 'Sierra Leone',\n",
       "       'Singapore', 'Slovak Republic', 'Slovenia', 'Solomon Islands',\n",
       "       'Somalia', 'South Africa', 'South Sudan', 'Spain', 'Sri Lanka',\n",
       "       'St. Kitts and Nevis', 'St. Lucia',\n",
       "       'St. Vincent and the Grenadines', 'Sudan', 'Suriname', 'Sweden',\n",
       "       'Switzerland', 'Syrian Arab Republic', 'São Tomé and Principe',\n",
       "       'Taiwan, China', 'Tajikistan', 'Tanzania', 'Thailand',\n",
       "       'Timor-Leste', 'Togo', 'Tonga', 'Trinidad and Tobago', 'Tunisia',\n",
       "       'Turkey', 'Turkmenistan', 'Tuvalu', 'Uganda', 'Ukraine',\n",
       "       'United Arab Emirates', 'United Kingdom', 'United States',\n",
       "       'Uruguay', 'Uzbekistan', 'Vanuatu', 'Venezuela, RB', 'Vietnam',\n",
       "       'Virgin Islands (U.S.)', 'West Bank and Gaza', 'Yemen, Rep.',\n",
       "       'Zambia', 'Zimbabwe'], dtype=object)"
      ]
     },
     "execution_count": 7,
     "metadata": {},
     "output_type": "execute_result"
    }
   ],
   "source": [
    "#Get unique country names\n",
    "df['countryname'].sort_values().unique()"
   ]
  },
  {
   "cell_type": "code",
   "execution_count": 8,
   "id": "6bc7c4a5",
   "metadata": {},
   "outputs": [],
   "source": [
    "#Clean up Country names in Governance Data as per County names in Happiness Data"
   ]
  },
  {
   "cell_type": "code",
   "execution_count": 9,
   "id": "9aec13eb",
   "metadata": {},
   "outputs": [],
   "source": [
    "df.replace('Congo, Rep.','Congo (Brazzaville)',inplace=True)"
   ]
  },
  {
   "cell_type": "code",
   "execution_count": 10,
   "id": "898d8c95",
   "metadata": {},
   "outputs": [],
   "source": [
    "df.replace('Congo, Dem. Rep.','Congo (Kinshasa)',inplace=True)"
   ]
  },
  {
   "cell_type": "code",
   "execution_count": 11,
   "id": "b716e8e0",
   "metadata": {},
   "outputs": [],
   "source": [
    "df.replace('Hong Kong SAR, China','Hong Kong',inplace=True)"
   ]
  },
  {
   "cell_type": "code",
   "execution_count": 12,
   "id": "5890de09",
   "metadata": {},
   "outputs": [],
   "source": [
    "df.replace('Iran, Islamic Rep.','Iran',inplace=True)"
   ]
  },
  {
   "cell_type": "code",
   "execution_count": 13,
   "id": "68c258c7",
   "metadata": {},
   "outputs": [],
   "source": [
    "df.replace('Korea, Rep.','South Korea',inplace=True)"
   ]
  },
  {
   "cell_type": "code",
   "execution_count": 14,
   "id": "808f619c",
   "metadata": {},
   "outputs": [],
   "source": [
    "df.replace('Lao PDR','Laos',inplace=True)"
   ]
  },
  {
   "cell_type": "code",
   "execution_count": 15,
   "id": "d251d9cf",
   "metadata": {},
   "outputs": [],
   "source": [
    "df.replace('Macao SAR, China','Hong Kong',inplace=True)"
   ]
  },
  {
   "cell_type": "code",
   "execution_count": 16,
   "id": "a0f30ca2",
   "metadata": {},
   "outputs": [],
   "source": [
    "df.replace('Russian Federation','Russia',inplace=True)"
   ]
  },
  {
   "cell_type": "code",
   "execution_count": 17,
   "id": "70c500c8",
   "metadata": {},
   "outputs": [],
   "source": [
    "df.replace('Yemen, Rep.','Yemen',inplace=True)"
   ]
  },
  {
   "cell_type": "code",
   "execution_count": 18,
   "id": "08124539",
   "metadata": {},
   "outputs": [],
   "source": [
    "df.replace('West Bank and Gaza','Palestinian Territories',inplace=True)"
   ]
  },
  {
   "cell_type": "code",
   "execution_count": 19,
   "id": "fe28d45f",
   "metadata": {},
   "outputs": [
    {
     "data": {
      "text/html": [
       "<div>\n",
       "<style scoped>\n",
       "    .dataframe tbody tr th:only-of-type {\n",
       "        vertical-align: middle;\n",
       "    }\n",
       "\n",
       "    .dataframe tbody tr th {\n",
       "        vertical-align: top;\n",
       "    }\n",
       "\n",
       "    .dataframe thead th {\n",
       "        text-align: right;\n",
       "    }\n",
       "</style>\n",
       "<table border=\"1\" class=\"dataframe\">\n",
       "  <thead>\n",
       "    <tr style=\"text-align: right;\">\n",
       "      <th></th>\n",
       "      <th>code</th>\n",
       "      <th>countryname</th>\n",
       "      <th>year</th>\n",
       "      <th>vae</th>\n",
       "      <th>vas</th>\n",
       "      <th>van</th>\n",
       "      <th>var</th>\n",
       "      <th>val</th>\n",
       "      <th>vau</th>\n",
       "      <th>pve</th>\n",
       "      <th>...</th>\n",
       "      <th>rln</th>\n",
       "      <th>rlr</th>\n",
       "      <th>rll</th>\n",
       "      <th>rlu</th>\n",
       "      <th>cce</th>\n",
       "      <th>ccs</th>\n",
       "      <th>ccn</th>\n",
       "      <th>ccr</th>\n",
       "      <th>ccl</th>\n",
       "      <th>ccu</th>\n",
       "    </tr>\n",
       "  </thead>\n",
       "  <tbody>\n",
       "    <tr>\n",
       "      <th>16</th>\n",
       "      <td>ABW</td>\n",
       "      <td>Aruba</td>\n",
       "      <td>2015</td>\n",
       "      <td>1.273942</td>\n",
       "      <td>0.276420</td>\n",
       "      <td>1.0</td>\n",
       "      <td>91.625618</td>\n",
       "      <td>72.413795</td>\n",
       "      <td>100.000000</td>\n",
       "      <td>1.230921</td>\n",
       "      <td>...</td>\n",
       "      <td>3.0</td>\n",
       "      <td>85.576920</td>\n",
       "      <td>77.403847</td>\n",
       "      <td>91.346153</td>\n",
       "      <td>1.297560</td>\n",
       "      <td>0.290631</td>\n",
       "      <td>2.0</td>\n",
       "      <td>88.942307</td>\n",
       "      <td>76.923080</td>\n",
       "      <td>92.788460</td>\n",
       "    </tr>\n",
       "    <tr>\n",
       "      <th>17</th>\n",
       "      <td>ABW</td>\n",
       "      <td>Aruba</td>\n",
       "      <td>2016</td>\n",
       "      <td>1.279368</td>\n",
       "      <td>0.291444</td>\n",
       "      <td>1.0</td>\n",
       "      <td>92.118225</td>\n",
       "      <td>71.921181</td>\n",
       "      <td>100.000000</td>\n",
       "      <td>1.284199</td>\n",
       "      <td>...</td>\n",
       "      <td>3.0</td>\n",
       "      <td>87.019234</td>\n",
       "      <td>78.365387</td>\n",
       "      <td>91.826920</td>\n",
       "      <td>1.285871</td>\n",
       "      <td>0.307169</td>\n",
       "      <td>2.0</td>\n",
       "      <td>89.423080</td>\n",
       "      <td>76.923080</td>\n",
       "      <td>92.788460</td>\n",
       "    </tr>\n",
       "    <tr>\n",
       "      <th>18</th>\n",
       "      <td>ABW</td>\n",
       "      <td>Aruba</td>\n",
       "      <td>2017</td>\n",
       "      <td>1.295541</td>\n",
       "      <td>0.282478</td>\n",
       "      <td>1.0</td>\n",
       "      <td>92.610840</td>\n",
       "      <td>73.891624</td>\n",
       "      <td>100.000000</td>\n",
       "      <td>1.335038</td>\n",
       "      <td>...</td>\n",
       "      <td>3.0</td>\n",
       "      <td>87.019234</td>\n",
       "      <td>80.288460</td>\n",
       "      <td>93.269234</td>\n",
       "      <td>1.294589</td>\n",
       "      <td>0.282581</td>\n",
       "      <td>2.0</td>\n",
       "      <td>88.461540</td>\n",
       "      <td>80.288460</td>\n",
       "      <td>92.307693</td>\n",
       "    </tr>\n",
       "    <tr>\n",
       "      <th>19</th>\n",
       "      <td>ABW</td>\n",
       "      <td>Aruba</td>\n",
       "      <td>2018</td>\n",
       "      <td>1.271613</td>\n",
       "      <td>0.247621</td>\n",
       "      <td>1.0</td>\n",
       "      <td>90.821259</td>\n",
       "      <td>76.328499</td>\n",
       "      <td>99.516907</td>\n",
       "      <td>1.356553</td>\n",
       "      <td>...</td>\n",
       "      <td>3.0</td>\n",
       "      <td>87.019234</td>\n",
       "      <td>78.846153</td>\n",
       "      <td>91.346153</td>\n",
       "      <td>1.252447</td>\n",
       "      <td>0.282528</td>\n",
       "      <td>2.0</td>\n",
       "      <td>87.019234</td>\n",
       "      <td>79.326920</td>\n",
       "      <td>92.307693</td>\n",
       "    </tr>\n",
       "    <tr>\n",
       "      <th>20</th>\n",
       "      <td>ABW</td>\n",
       "      <td>Aruba</td>\n",
       "      <td>2019</td>\n",
       "      <td>1.264411</td>\n",
       "      <td>0.267498</td>\n",
       "      <td>1.0</td>\n",
       "      <td>91.787437</td>\n",
       "      <td>72.946861</td>\n",
       "      <td>100.000000</td>\n",
       "      <td>1.349796</td>\n",
       "      <td>...</td>\n",
       "      <td>3.0</td>\n",
       "      <td>86.538460</td>\n",
       "      <td>78.846153</td>\n",
       "      <td>91.826920</td>\n",
       "      <td>1.217546</td>\n",
       "      <td>0.286041</td>\n",
       "      <td>2.0</td>\n",
       "      <td>85.576920</td>\n",
       "      <td>76.442307</td>\n",
       "      <td>91.826920</td>\n",
       "    </tr>\n",
       "  </tbody>\n",
       "</table>\n",
       "<p>5 rows × 39 columns</p>\n",
       "</div>"
      ],
      "text/plain": [
       "   code countryname  year       vae       vas  van        var        val  \\\n",
       "16  ABW       Aruba  2015  1.273942  0.276420  1.0  91.625618  72.413795   \n",
       "17  ABW       Aruba  2016  1.279368  0.291444  1.0  92.118225  71.921181   \n",
       "18  ABW       Aruba  2017  1.295541  0.282478  1.0  92.610840  73.891624   \n",
       "19  ABW       Aruba  2018  1.271613  0.247621  1.0  90.821259  76.328499   \n",
       "20  ABW       Aruba  2019  1.264411  0.267498  1.0  91.787437  72.946861   \n",
       "\n",
       "           vau       pve  ...  rln        rlr        rll        rlu       cce  \\\n",
       "16  100.000000  1.230921  ...  3.0  85.576920  77.403847  91.346153  1.297560   \n",
       "17  100.000000  1.284199  ...  3.0  87.019234  78.365387  91.826920  1.285871   \n",
       "18  100.000000  1.335038  ...  3.0  87.019234  80.288460  93.269234  1.294589   \n",
       "19   99.516907  1.356553  ...  3.0  87.019234  78.846153  91.346153  1.252447   \n",
       "20  100.000000  1.349796  ...  3.0  86.538460  78.846153  91.826920  1.217546   \n",
       "\n",
       "         ccs  ccn        ccr        ccl        ccu  \n",
       "16  0.290631  2.0  88.942307  76.923080  92.788460  \n",
       "17  0.307169  2.0  89.423080  76.923080  92.788460  \n",
       "18  0.282581  2.0  88.461540  80.288460  92.307693  \n",
       "19  0.282528  2.0  87.019234  79.326920  92.307693  \n",
       "20  0.286041  2.0  85.576920  76.442307  91.826920  \n",
       "\n",
       "[5 rows x 39 columns]"
      ]
     },
     "execution_count": 19,
     "metadata": {},
     "output_type": "execute_result"
    }
   ],
   "source": [
    "df.head()"
   ]
  },
  {
   "cell_type": "code",
   "execution_count": 21,
   "id": "aba02c7f",
   "metadata": {},
   "outputs": [],
   "source": [
    "#Create a Rule of law Dataset using rlr metric from the above(df) dataset\n",
    "RuleoflawRanking=df[['countryname','year','rlr']].sort_values(by=['year','rlr'],ascending=(True,False))\n",
    "RuleoflawRanking.reset_index(inplace=True,drop=True)"
   ]
  },
  {
   "cell_type": "code",
   "execution_count": 24,
   "id": "420f38df",
   "metadata": {},
   "outputs": [
    {
     "data": {
      "text/plain": [
       "1254"
      ]
     },
     "execution_count": 24,
     "metadata": {},
     "output_type": "execute_result"
    }
   ],
   "source": [
    "len(RuleoflawRanking)"
   ]
  },
  {
   "cell_type": "code",
   "execution_count": 23,
   "id": "6128a57f",
   "metadata": {},
   "outputs": [],
   "source": [
    "#Remove all rows with nan values\n",
    "RuleoflawRanking.dropna(axis=0,how='any',inplace=True)"
   ]
  },
  {
   "cell_type": "code",
   "execution_count": 25,
   "id": "21f18c70",
   "metadata": {},
   "outputs": [],
   "source": [
    "#Rank by Rule of law ratings\n",
    "RuleoflawRanking['Rank']=RuleoflawRanking.groupby('year')['rlr'].rank(ascending=False,method='min')"
   ]
  },
  {
   "cell_type": "code",
   "execution_count": 27,
   "id": "f57e70ff",
   "metadata": {},
   "outputs": [],
   "source": [
    "#Rename columns to be consitent with Happiness Data\n",
    "RuleoflawRanking.rename(columns=({'countryname':'Country','year':'Year'}),inplace=True)"
   ]
  },
  {
   "cell_type": "code",
   "execution_count": 28,
   "id": "8cce9cb3",
   "metadata": {},
   "outputs": [
    {
     "data": {
      "text/html": [
       "<div>\n",
       "<style scoped>\n",
       "    .dataframe tbody tr th:only-of-type {\n",
       "        vertical-align: middle;\n",
       "    }\n",
       "\n",
       "    .dataframe tbody tr th {\n",
       "        vertical-align: top;\n",
       "    }\n",
       "\n",
       "    .dataframe thead th {\n",
       "        text-align: right;\n",
       "    }\n",
       "</style>\n",
       "<table border=\"1\" class=\"dataframe\">\n",
       "  <thead>\n",
       "    <tr style=\"text-align: right;\">\n",
       "      <th></th>\n",
       "      <th>Country</th>\n",
       "      <th>Year</th>\n",
       "      <th>rlr</th>\n",
       "      <th>Rank</th>\n",
       "    </tr>\n",
       "  </thead>\n",
       "  <tbody>\n",
       "    <tr>\n",
       "      <th>0</th>\n",
       "      <td>Finland</td>\n",
       "      <td>2015</td>\n",
       "      <td>100.000000</td>\n",
       "      <td>1.0</td>\n",
       "    </tr>\n",
       "    <tr>\n",
       "      <th>1</th>\n",
       "      <td>Denmark</td>\n",
       "      <td>2015</td>\n",
       "      <td>99.519234</td>\n",
       "      <td>2.0</td>\n",
       "    </tr>\n",
       "    <tr>\n",
       "      <th>2</th>\n",
       "      <td>Sweden</td>\n",
       "      <td>2015</td>\n",
       "      <td>99.038460</td>\n",
       "      <td>3.0</td>\n",
       "    </tr>\n",
       "    <tr>\n",
       "      <th>3</th>\n",
       "      <td>Norway</td>\n",
       "      <td>2015</td>\n",
       "      <td>98.557693</td>\n",
       "      <td>4.0</td>\n",
       "    </tr>\n",
       "    <tr>\n",
       "      <th>4</th>\n",
       "      <td>New Zealand</td>\n",
       "      <td>2015</td>\n",
       "      <td>98.076920</td>\n",
       "      <td>5.0</td>\n",
       "    </tr>\n",
       "  </tbody>\n",
       "</table>\n",
       "</div>"
      ],
      "text/plain": [
       "       Country  Year         rlr  Rank\n",
       "0      Finland  2015  100.000000   1.0\n",
       "1      Denmark  2015   99.519234   2.0\n",
       "2       Sweden  2015   99.038460   3.0\n",
       "3       Norway  2015   98.557693   4.0\n",
       "4  New Zealand  2015   98.076920   5.0"
      ]
     },
     "execution_count": 28,
     "metadata": {},
     "output_type": "execute_result"
    }
   ],
   "source": [
    "RuleoflawRanking.head()"
   ]
  },
  {
   "cell_type": "code",
   "execution_count": 29,
   "id": "361b5cec",
   "metadata": {},
   "outputs": [
    {
     "data": {
      "text/html": [
       "<div>\n",
       "<style scoped>\n",
       "    .dataframe tbody tr th:only-of-type {\n",
       "        vertical-align: middle;\n",
       "    }\n",
       "\n",
       "    .dataframe tbody tr th {\n",
       "        vertical-align: top;\n",
       "    }\n",
       "\n",
       "    .dataframe thead th {\n",
       "        text-align: right;\n",
       "    }\n",
       "</style>\n",
       "<table border=\"1\" class=\"dataframe\">\n",
       "  <thead>\n",
       "    <tr style=\"text-align: right;\">\n",
       "      <th></th>\n",
       "      <th>Country</th>\n",
       "      <th>Year</th>\n",
       "      <th>rlr</th>\n",
       "      <th>Rank_rlr</th>\n",
       "      <th>Score</th>\n",
       "      <th>Rank_happiness</th>\n",
       "      <th>Logged GDP per capita</th>\n",
       "      <th>Social support</th>\n",
       "      <th>Healthy life expectancy</th>\n",
       "      <th>Freedom to make life choices</th>\n",
       "      <th>Generosity</th>\n",
       "      <th>Perceptions of corruption</th>\n",
       "    </tr>\n",
       "  </thead>\n",
       "  <tbody>\n",
       "    <tr>\n",
       "      <th>0</th>\n",
       "      <td>Finland</td>\n",
       "      <td>2015</td>\n",
       "      <td>100.000000</td>\n",
       "      <td>1.0</td>\n",
       "      <td>7.406</td>\n",
       "      <td>6</td>\n",
       "      <td>10.531513</td>\n",
       "      <td>0.940039</td>\n",
       "      <td>70.846245</td>\n",
       "      <td>0.925070</td>\n",
       "      <td>0.000338</td>\n",
       "      <td>0.310990</td>\n",
       "    </tr>\n",
       "    <tr>\n",
       "      <th>1</th>\n",
       "      <td>Denmark</td>\n",
       "      <td>2015</td>\n",
       "      <td>99.519234</td>\n",
       "      <td>2.0</td>\n",
       "      <td>7.527</td>\n",
       "      <td>3</td>\n",
       "      <td>10.639521</td>\n",
       "      <td>0.957780</td>\n",
       "      <td>70.323395</td>\n",
       "      <td>0.932365</td>\n",
       "      <td>0.137351</td>\n",
       "      <td>0.200448</td>\n",
       "    </tr>\n",
       "    <tr>\n",
       "      <th>2</th>\n",
       "      <td>Sweden</td>\n",
       "      <td>2015</td>\n",
       "      <td>99.038460</td>\n",
       "      <td>3.0</td>\n",
       "      <td>7.364</td>\n",
       "      <td>8</td>\n",
       "      <td>10.658623</td>\n",
       "      <td>0.927801</td>\n",
       "      <td>71.632347</td>\n",
       "      <td>0.942244</td>\n",
       "      <td>0.164320</td>\n",
       "      <td>0.271875</td>\n",
       "    </tr>\n",
       "    <tr>\n",
       "      <th>3</th>\n",
       "      <td>Norway</td>\n",
       "      <td>2015</td>\n",
       "      <td>98.557693</td>\n",
       "      <td>4.0</td>\n",
       "      <td>7.522</td>\n",
       "      <td>4</td>\n",
       "      <td>11.048872</td>\n",
       "      <td>0.945359</td>\n",
       "      <td>70.705254</td>\n",
       "      <td>0.951669</td>\n",
       "      <td>0.144468</td>\n",
       "      <td>0.388029</td>\n",
       "    </tr>\n",
       "    <tr>\n",
       "      <th>4</th>\n",
       "      <td>New Zealand</td>\n",
       "      <td>2015</td>\n",
       "      <td>98.076920</td>\n",
       "      <td>5.0</td>\n",
       "      <td>7.286</td>\n",
       "      <td>9</td>\n",
       "      <td>10.408683</td>\n",
       "      <td>0.940631</td>\n",
       "      <td>71.542191</td>\n",
       "      <td>0.922873</td>\n",
       "      <td>0.307064</td>\n",
       "      <td>0.286466</td>\n",
       "    </tr>\n",
       "  </tbody>\n",
       "</table>\n",
       "</div>"
      ],
      "text/plain": [
       "       Country  Year         rlr  Rank_rlr  Score  Rank_happiness  \\\n",
       "0      Finland  2015  100.000000       1.0  7.406               6   \n",
       "1      Denmark  2015   99.519234       2.0  7.527               3   \n",
       "2       Sweden  2015   99.038460       3.0  7.364               8   \n",
       "3       Norway  2015   98.557693       4.0  7.522               4   \n",
       "4  New Zealand  2015   98.076920       5.0  7.286               9   \n",
       "\n",
       "   Logged GDP per capita  Social support  Healthy life expectancy  \\\n",
       "0              10.531513        0.940039                70.846245   \n",
       "1              10.639521        0.957780                70.323395   \n",
       "2              10.658623        0.927801                71.632347   \n",
       "3              11.048872        0.945359                70.705254   \n",
       "4              10.408683        0.940631                71.542191   \n",
       "\n",
       "   Freedom to make life choices  Generosity  Perceptions of corruption  \n",
       "0                      0.925070    0.000338                   0.310990  \n",
       "1                      0.932365    0.137351                   0.200448  \n",
       "2                      0.942244    0.164320                   0.271875  \n",
       "3                      0.951669    0.144468                   0.388029  \n",
       "4                      0.922873    0.307064                   0.286466  "
      ]
     },
     "execution_count": 29,
     "metadata": {},
     "output_type": "execute_result"
    }
   ],
   "source": [
    "#Merge with Happiness Data\n",
    "LawRuleCombinedData=pd.merge(RuleoflawRanking,HappinessData,on=['Country','Year'],suffixes=('_rlr','_happiness'))\n",
    "LawRuleCombinedData.head()"
   ]
  },
  {
   "cell_type": "code",
   "execution_count": 30,
   "id": "df3783e2",
   "metadata": {},
   "outputs": [
    {
     "data": {
      "text/plain": [
       "881"
      ]
     },
     "execution_count": 30,
     "metadata": {},
     "output_type": "execute_result"
    }
   ],
   "source": [
    "len(LawRuleCombinedData)"
   ]
  },
  {
   "cell_type": "code",
   "execution_count": 31,
   "id": "469deb11",
   "metadata": {},
   "outputs": [
    {
     "data": {
      "text/plain": [
       "LinregressResult(slope=0.8946084377673413, intercept=38.46442155131135, rvalue=0.6624304100301056, pvalue=2.1902225696210846e-112, stderr=0.034123352038065956, intercept_stderr=3.0658756625772745)"
      ]
     },
     "execution_count": 31,
     "metadata": {},
     "output_type": "execute_result"
    }
   ],
   "source": [
    "#Calculate Regression\n",
    "model=linregress(LawRuleCombinedData['Rank_happiness'],LawRuleCombinedData['Rank_rlr'])\n",
    "model"
   ]
  },
  {
   "cell_type": "code",
   "execution_count": 32,
   "id": "8c6c3b6b",
   "metadata": {},
   "outputs": [
    {
     "name": "stdout",
     "output_type": "stream",
     "text": [
      "The r-value is: 0.43881404813265384\n"
     ]
    },
    {
     "data": {
      "image/png": "[encoded data removed]",
      "text/plain": [
       "<Figure size 432x288 with 1 Axes>"
      ]
     },
     "metadata": {
      "needs_background": "light"
     },
     "output_type": "display_data"
    }
   ],
   "source": [
    "regressvalues=LawRuleCombinedData['Rank_happiness']*model[0]+model[1] #Calculate Linear Regression\n",
    "line_eq= f\"y = {str(round(model[0],2))}x +  {str(round(model[1],2))}\"\n",
    "print(f\"The r-value is: {model[2]**2}\") #Print Rvalue\n",
    "plt.title('Happindess Index vs Rule of law Index')\n",
    "plt.xlabel('Happiness Rank/Index')\n",
    "plt.ylabel('Rule of law Rank/Index')\n",
    "plt.scatter(LawRuleCombinedData['Rank_happiness'],LawRuleCombinedData['Rank_rlr']) # Scatter Plot\n",
    "plt.plot(LawRuleCombinedData['Rank_happiness'],regressvalues,'red') # Linear line\n",
    "plt.annotate(line_eq,(80,20),fontsize=15,color='red') #print euqation for Linear line.\n",
    "plt.show()\n",
    "# Looks like there is a moderately positive realtionship between Rule of law and happiness ranking "
   ]
  },
  {
   "cell_type": "code",
   "execution_count": 33,
   "id": "0be3ab5a",
   "metadata": {},
   "outputs": [],
   "source": [
    "#Create a Political stability Dataset using pvr metric from the above(df) dataset\n",
    "PoliticalStability=df[['countryname','year','pvr']].sort_values(by=['year','pvr'],ascending=(True,False))\n",
    "PoliticalStability.reset_index(inplace=True,drop=True)"
   ]
  },
  {
   "cell_type": "code",
   "execution_count": 34,
   "id": "c5d4858a",
   "metadata": {},
   "outputs": [
    {
     "data": {
      "text/plain": [
       "1284"
      ]
     },
     "execution_count": 34,
     "metadata": {},
     "output_type": "execute_result"
    }
   ],
   "source": [
    "len(PoliticalStability)"
   ]
  },
  {
   "cell_type": "code",
   "execution_count": 35,
   "id": "2edf2387",
   "metadata": {},
   "outputs": [],
   "source": [
    "#Drop Nan values from the dataset\n",
    "PoliticalStability.dropna(axis=0,how='any',inplace=True)"
   ]
  },
  {
   "cell_type": "code",
   "execution_count": 36,
   "id": "c9531dea",
   "metadata": {},
   "outputs": [
    {
     "data": {
      "text/plain": [
       "1272"
      ]
     },
     "execution_count": 36,
     "metadata": {},
     "output_type": "execute_result"
    }
   ],
   "source": [
    "len(PoliticalStability)"
   ]
  },
  {
   "cell_type": "code",
   "execution_count": 37,
   "id": "9e7fcaaa",
   "metadata": {},
   "outputs": [],
   "source": [
    "#Rank based on the Political stability percentile rank values\n",
    "PoliticalStability['Rank']=PoliticalStability.groupby('year')['pvr'].rank(ascending=False,method='min')"
   ]
  },
  {
   "cell_type": "code",
   "execution_count": 38,
   "id": "a3fa6bfa",
   "metadata": {},
   "outputs": [],
   "source": [
    "#Rename column as per Happiness data set\n",
    "PoliticalStability.rename(columns=({'countryname':'Country','year':'Year'}),inplace=True)"
   ]
  },
  {
   "cell_type": "code",
   "execution_count": 39,
   "id": "0851e176",
   "metadata": {},
   "outputs": [
    {
     "data": {
      "text/html": [
       "<div>\n",
       "<style scoped>\n",
       "    .dataframe tbody tr th:only-of-type {\n",
       "        vertical-align: middle;\n",
       "    }\n",
       "\n",
       "    .dataframe tbody tr th {\n",
       "        vertical-align: top;\n",
       "    }\n",
       "\n",
       "    .dataframe thead th {\n",
       "        text-align: right;\n",
       "    }\n",
       "</style>\n",
       "<table border=\"1\" class=\"dataframe\">\n",
       "  <thead>\n",
       "    <tr style=\"text-align: right;\">\n",
       "      <th></th>\n",
       "      <th>Country</th>\n",
       "      <th>Year</th>\n",
       "      <th>pvr</th>\n",
       "      <th>Rank</th>\n",
       "    </tr>\n",
       "  </thead>\n",
       "  <tbody>\n",
       "    <tr>\n",
       "      <th>0</th>\n",
       "      <td>Greenland</td>\n",
       "      <td>2015</td>\n",
       "      <td>100.000000</td>\n",
       "      <td>1.0</td>\n",
       "    </tr>\n",
       "    <tr>\n",
       "      <th>1</th>\n",
       "      <td>Jersey, Channel Islands</td>\n",
       "      <td>2015</td>\n",
       "      <td>99.523811</td>\n",
       "      <td>2.0</td>\n",
       "    </tr>\n",
       "    <tr>\n",
       "      <th>2</th>\n",
       "      <td>New Zealand</td>\n",
       "      <td>2015</td>\n",
       "      <td>99.047623</td>\n",
       "      <td>3.0</td>\n",
       "    </tr>\n",
       "    <tr>\n",
       "      <th>3</th>\n",
       "      <td>Liechtenstein</td>\n",
       "      <td>2015</td>\n",
       "      <td>98.571426</td>\n",
       "      <td>4.0</td>\n",
       "    </tr>\n",
       "    <tr>\n",
       "      <th>4</th>\n",
       "      <td>Luxembourg</td>\n",
       "      <td>2015</td>\n",
       "      <td>98.095238</td>\n",
       "      <td>5.0</td>\n",
       "    </tr>\n",
       "  </tbody>\n",
       "</table>\n",
       "</div>"
      ],
      "text/plain": [
       "                   Country  Year         pvr  Rank\n",
       "0                Greenland  2015  100.000000   1.0\n",
       "1  Jersey, Channel Islands  2015   99.523811   2.0\n",
       "2              New Zealand  2015   99.047623   3.0\n",
       "3            Liechtenstein  2015   98.571426   4.0\n",
       "4               Luxembourg  2015   98.095238   5.0"
      ]
     },
     "execution_count": 39,
     "metadata": {},
     "output_type": "execute_result"
    }
   ],
   "source": [
    "PoliticalStability.head()"
   ]
  },
  {
   "cell_type": "code",
   "execution_count": 40,
   "id": "4e7ae444",
   "metadata": {},
   "outputs": [
    {
     "data": {
      "text/html": [
       "<div>\n",
       "<style scoped>\n",
       "    .dataframe tbody tr th:only-of-type {\n",
       "        vertical-align: middle;\n",
       "    }\n",
       "\n",
       "    .dataframe tbody tr th {\n",
       "        vertical-align: top;\n",
       "    }\n",
       "\n",
       "    .dataframe thead th {\n",
       "        text-align: right;\n",
       "    }\n",
       "</style>\n",
       "<table border=\"1\" class=\"dataframe\">\n",
       "  <thead>\n",
       "    <tr style=\"text-align: right;\">\n",
       "      <th></th>\n",
       "      <th>Country</th>\n",
       "      <th>Year</th>\n",
       "      <th>pvr</th>\n",
       "      <th>Rank_PoliticalStability</th>\n",
       "      <th>Score</th>\n",
       "      <th>Rank_happiness</th>\n",
       "      <th>Logged GDP per capita</th>\n",
       "      <th>Social support</th>\n",
       "      <th>Healthy life expectancy</th>\n",
       "      <th>Freedom to make life choices</th>\n",
       "      <th>Generosity</th>\n",
       "      <th>Perceptions of corruption</th>\n",
       "    </tr>\n",
       "  </thead>\n",
       "  <tbody>\n",
       "    <tr>\n",
       "      <th>0</th>\n",
       "      <td>New Zealand</td>\n",
       "      <td>2015</td>\n",
       "      <td>99.047623</td>\n",
       "      <td>3.0</td>\n",
       "      <td>7.286</td>\n",
       "      <td>9</td>\n",
       "      <td>10.408683</td>\n",
       "      <td>0.940631</td>\n",
       "      <td>71.542191</td>\n",
       "      <td>0.922873</td>\n",
       "      <td>0.307064</td>\n",
       "      <td>0.286466</td>\n",
       "    </tr>\n",
       "    <tr>\n",
       "      <th>1</th>\n",
       "      <td>Luxembourg</td>\n",
       "      <td>2015</td>\n",
       "      <td>98.095238</td>\n",
       "      <td>5.0</td>\n",
       "      <td>6.946</td>\n",
       "      <td>17</td>\n",
       "      <td>11.370514</td>\n",
       "      <td>0.898688</td>\n",
       "      <td>71.924210</td>\n",
       "      <td>0.900537</td>\n",
       "      <td>0.059814</td>\n",
       "      <td>0.367548</td>\n",
       "    </tr>\n",
       "    <tr>\n",
       "      <th>2</th>\n",
       "      <td>Switzerland</td>\n",
       "      <td>2015</td>\n",
       "      <td>96.666664</td>\n",
       "      <td>8.0</td>\n",
       "      <td>7.587</td>\n",
       "      <td>1</td>\n",
       "      <td>10.857283</td>\n",
       "      <td>0.953136</td>\n",
       "      <td>72.736862</td>\n",
       "      <td>0.947724</td>\n",
       "      <td>0.080692</td>\n",
       "      <td>0.301402</td>\n",
       "    </tr>\n",
       "    <tr>\n",
       "      <th>3</th>\n",
       "      <td>Singapore</td>\n",
       "      <td>2015</td>\n",
       "      <td>96.190475</td>\n",
       "      <td>9.0</td>\n",
       "      <td>6.798</td>\n",
       "      <td>24</td>\n",
       "      <td>11.241599</td>\n",
       "      <td>0.815001</td>\n",
       "      <td>75.765495</td>\n",
       "      <td>0.830982</td>\n",
       "      <td>0.098821</td>\n",
       "      <td>0.186956</td>\n",
       "    </tr>\n",
       "    <tr>\n",
       "      <th>4</th>\n",
       "      <td>Iceland</td>\n",
       "      <td>2015</td>\n",
       "      <td>95.714287</td>\n",
       "      <td>10.0</td>\n",
       "      <td>7.561</td>\n",
       "      <td>2</td>\n",
       "      <td>10.568534</td>\n",
       "      <td>0.975240</td>\n",
       "      <td>72.968559</td>\n",
       "      <td>0.912811</td>\n",
       "      <td>0.257895</td>\n",
       "      <td>0.741834</td>\n",
       "    </tr>\n",
       "  </tbody>\n",
       "</table>\n",
       "</div>"
      ],
      "text/plain": [
       "       Country  Year        pvr  Rank_PoliticalStability  Score  \\\n",
       "0  New Zealand  2015  99.047623                      3.0  7.286   \n",
       "1   Luxembourg  2015  98.095238                      5.0  6.946   \n",
       "2  Switzerland  2015  96.666664                      8.0  7.587   \n",
       "3    Singapore  2015  96.190475                      9.0  6.798   \n",
       "4      Iceland  2015  95.714287                     10.0  7.561   \n",
       "\n",
       "   Rank_happiness  Logged GDP per capita  Social support  \\\n",
       "0               9              10.408683        0.940631   \n",
       "1              17              11.370514        0.898688   \n",
       "2               1              10.857283        0.953136   \n",
       "3              24              11.241599        0.815001   \n",
       "4               2              10.568534        0.975240   \n",
       "\n",
       "   Healthy life expectancy  Freedom to make life choices  Generosity  \\\n",
       "0                71.542191                      0.922873    0.307064   \n",
       "1                71.924210                      0.900537    0.059814   \n",
       "2                72.736862                      0.947724    0.080692   \n",
       "3                75.765495                      0.830982    0.098821   \n",
       "4                72.968559                      0.912811    0.257895   \n",
       "\n",
       "   Perceptions of corruption  \n",
       "0                   0.286466  \n",
       "1                   0.367548  \n",
       "2                   0.301402  \n",
       "3                   0.186956  \n",
       "4                   0.741834  "
      ]
     },
     "execution_count": 40,
     "metadata": {},
     "output_type": "execute_result"
    }
   ],
   "source": [
    "#Combine political stability with Happiness Data\n",
    "StabilityCombinedData=pd.merge(PoliticalStability,HappinessData,on=['Country','Year'],suffixes=('_PoliticalStability','_happiness'))\n",
    "StabilityCombinedData.head()"
   ]
  },
  {
   "cell_type": "code",
   "execution_count": 41,
   "id": "3b14ea4d",
   "metadata": {},
   "outputs": [
    {
     "data": {
      "text/plain": [
       "881"
      ]
     },
     "execution_count": 41,
     "metadata": {},
     "output_type": "execute_result"
    }
   ],
   "source": [
    "len(StabilityCombinedData)"
   ]
  },
  {
   "cell_type": "code",
   "execution_count": 71,
   "id": "9d42c8dc",
   "metadata": {},
   "outputs": [
    {
     "data": {
      "text/plain": [
       "LinregressResult(slope=0.7490352098339129, intercept=62.240661203911095, rvalue=0.5867947488387576, pvalue=1.2421013513378581e-82, stderr=0.03486300916504324, intercept_stderr=3.1323315248771384)"
      ]
     },
     "execution_count": 71,
     "metadata": {},
     "output_type": "execute_result"
    }
   ],
   "source": [
    "#Calculate regression model\n",
    "model=linregress(StabilityCombinedData['Rank_happiness'],StabilityCombinedData['Rank_PoliticalStability'])\n",
    "model"
   ]
  },
  {
   "cell_type": "code",
   "execution_count": 44,
   "id": "b2a408d9",
   "metadata": {},
   "outputs": [
    {
     "name": "stdout",
     "output_type": "stream",
     "text": [
      "The r-value is: 0.43881404813265384\n"
     ]
    },
    {
     "data": {
      "image/png": "[encoded data removed]",
      "text/plain": [
       "<Figure size 432x288 with 1 Axes>"
      ]
     },
     "metadata": {
      "needs_background": "light"
     },
     "output_type": "display_data"
    }
   ],
   "source": [
    "regressvalues=StabilityCombinedData['Rank_happiness']*model[0]+model[1] #Calculate Linear Regression\n",
    "line_eq= f\"y = {str(round(model[0],2))}x +  {str(round(model[1],2))}\"\n",
    "print(f\"The r-value is: {model[2]**2}\") #Print Rvalue\n",
    "plt.title('Happindess Index vs Political Stability Index')\n",
    "plt.xlabel('Happiness Rank/Index')\n",
    "plt.ylabel('Political Stability Rank/Index')\n",
    "#Scatter Plot\n",
    "plt.scatter(StabilityCombinedData['Rank_happiness'],StabilityCombinedData['Rank_PoliticalStability'])\n",
    "plt.plot(StabilityCombinedData['Rank_happiness'],regressvalues,'red')\n",
    "plt.annotate(line_eq,(80,10),fontsize=15,color='red')\n",
    "plt.show()\n",
    "# Looks like there is a moderately positive realtionship between Political stability and happiness "
   ]
  },
  {
   "cell_type": "code",
   "execution_count": 46,
   "id": "28f9cee8",
   "metadata": {},
   "outputs": [],
   "source": [
    "#ccr is corruption control index. High CCR means lowest corruption\n",
    "##Create a Corruption Dataset using pvr metric from the above(df) dataset\n",
    "CorruptionData=df[['countryname','year','ccr']].sort_values(by=['year','ccr'],ascending=(True,False))\n",
    "CorruptionData.reset_index(inplace=True,drop=True)\n",
    "#Drop NaN values\n",
    "CorruptionData.dropna(axis=0,how='any',inplace=True)"
   ]
  },
  {
   "cell_type": "code",
   "execution_count": 47,
   "id": "cc01caba",
   "metadata": {},
   "outputs": [
    {
     "data": {
      "text/plain": [
       "1254"
      ]
     },
     "execution_count": 47,
     "metadata": {},
     "output_type": "execute_result"
    }
   ],
   "source": [
    "len(CorruptionData)"
   ]
  },
  {
   "cell_type": "code",
   "execution_count": 48,
   "id": "823c90fc",
   "metadata": {},
   "outputs": [
    {
     "data": {
      "text/html": [
       "<div>\n",
       "<style scoped>\n",
       "    .dataframe tbody tr th:only-of-type {\n",
       "        vertical-align: middle;\n",
       "    }\n",
       "\n",
       "    .dataframe tbody tr th {\n",
       "        vertical-align: top;\n",
       "    }\n",
       "\n",
       "    .dataframe thead th {\n",
       "        text-align: right;\n",
       "    }\n",
       "</style>\n",
       "<table border=\"1\" class=\"dataframe\">\n",
       "  <thead>\n",
       "    <tr style=\"text-align: right;\">\n",
       "      <th></th>\n",
       "      <th>Country</th>\n",
       "      <th>Year</th>\n",
       "      <th>ccr</th>\n",
       "      <th>Rank</th>\n",
       "    </tr>\n",
       "  </thead>\n",
       "  <tbody>\n",
       "    <tr>\n",
       "      <th>0</th>\n",
       "      <td>New Zealand</td>\n",
       "      <td>2015</td>\n",
       "      <td>100.000000</td>\n",
       "      <td>1.0</td>\n",
       "    </tr>\n",
       "    <tr>\n",
       "      <th>1</th>\n",
       "      <td>Finland</td>\n",
       "      <td>2015</td>\n",
       "      <td>99.519234</td>\n",
       "      <td>2.0</td>\n",
       "    </tr>\n",
       "    <tr>\n",
       "      <th>2</th>\n",
       "      <td>Norway</td>\n",
       "      <td>2015</td>\n",
       "      <td>99.038460</td>\n",
       "      <td>3.0</td>\n",
       "    </tr>\n",
       "    <tr>\n",
       "      <th>3</th>\n",
       "      <td>Denmark</td>\n",
       "      <td>2015</td>\n",
       "      <td>98.557693</td>\n",
       "      <td>4.0</td>\n",
       "    </tr>\n",
       "    <tr>\n",
       "      <th>4</th>\n",
       "      <td>Sweden</td>\n",
       "      <td>2015</td>\n",
       "      <td>98.076920</td>\n",
       "      <td>5.0</td>\n",
       "    </tr>\n",
       "  </tbody>\n",
       "</table>\n",
       "</div>"
      ],
      "text/plain": [
       "       Country  Year         ccr  Rank\n",
       "0  New Zealand  2015  100.000000   1.0\n",
       "1      Finland  2015   99.519234   2.0\n",
       "2       Norway  2015   99.038460   3.0\n",
       "3      Denmark  2015   98.557693   4.0\n",
       "4       Sweden  2015   98.076920   5.0"
      ]
     },
     "execution_count": 48,
     "metadata": {},
     "output_type": "execute_result"
    }
   ],
   "source": [
    "#Rank based on ccr i.e. percentile rank\n",
    "CorruptionData['Rank']=CorruptionData.groupby('year')['ccr'].rank(ascending=False,method='min')\n",
    "CorruptionData.rename(columns=({'countryname':'Country','year':'Year'}),inplace=True)\n",
    "CorruptionData.head()"
   ]
  },
  {
   "cell_type": "code",
   "execution_count": 49,
   "id": "70aca96b",
   "metadata": {},
   "outputs": [
    {
     "data": {
      "text/html": [
       "<div>\n",
       "<style scoped>\n",
       "    .dataframe tbody tr th:only-of-type {\n",
       "        vertical-align: middle;\n",
       "    }\n",
       "\n",
       "    .dataframe tbody tr th {\n",
       "        vertical-align: top;\n",
       "    }\n",
       "\n",
       "    .dataframe thead th {\n",
       "        text-align: right;\n",
       "    }\n",
       "</style>\n",
       "<table border=\"1\" class=\"dataframe\">\n",
       "  <thead>\n",
       "    <tr style=\"text-align: right;\">\n",
       "      <th></th>\n",
       "      <th>Country</th>\n",
       "      <th>Year</th>\n",
       "      <th>ccr</th>\n",
       "      <th>Rank_CorruptionControl</th>\n",
       "      <th>Score</th>\n",
       "      <th>Rank_happiness</th>\n",
       "      <th>Logged GDP per capita</th>\n",
       "      <th>Social support</th>\n",
       "      <th>Healthy life expectancy</th>\n",
       "      <th>Freedom to make life choices</th>\n",
       "      <th>Generosity</th>\n",
       "      <th>Perceptions of corruption</th>\n",
       "    </tr>\n",
       "  </thead>\n",
       "  <tbody>\n",
       "    <tr>\n",
       "      <th>0</th>\n",
       "      <td>New Zealand</td>\n",
       "      <td>2015</td>\n",
       "      <td>100.000000</td>\n",
       "      <td>1.0</td>\n",
       "      <td>7.286</td>\n",
       "      <td>9</td>\n",
       "      <td>10.408683</td>\n",
       "      <td>0.940631</td>\n",
       "      <td>71.542191</td>\n",
       "      <td>0.922873</td>\n",
       "      <td>0.307064</td>\n",
       "      <td>0.286466</td>\n",
       "    </tr>\n",
       "    <tr>\n",
       "      <th>1</th>\n",
       "      <td>Finland</td>\n",
       "      <td>2015</td>\n",
       "      <td>99.519234</td>\n",
       "      <td>2.0</td>\n",
       "      <td>7.406</td>\n",
       "      <td>6</td>\n",
       "      <td>10.531513</td>\n",
       "      <td>0.940039</td>\n",
       "      <td>70.846245</td>\n",
       "      <td>0.925070</td>\n",
       "      <td>0.000338</td>\n",
       "      <td>0.310990</td>\n",
       "    </tr>\n",
       "    <tr>\n",
       "      <th>2</th>\n",
       "      <td>Norway</td>\n",
       "      <td>2015</td>\n",
       "      <td>99.038460</td>\n",
       "      <td>3.0</td>\n",
       "      <td>7.522</td>\n",
       "      <td>4</td>\n",
       "      <td>11.048872</td>\n",
       "      <td>0.945359</td>\n",
       "      <td>70.705254</td>\n",
       "      <td>0.951669</td>\n",
       "      <td>0.144468</td>\n",
       "      <td>0.388029</td>\n",
       "    </tr>\n",
       "    <tr>\n",
       "      <th>3</th>\n",
       "      <td>Denmark</td>\n",
       "      <td>2015</td>\n",
       "      <td>98.557693</td>\n",
       "      <td>4.0</td>\n",
       "      <td>7.527</td>\n",
       "      <td>3</td>\n",
       "      <td>10.639521</td>\n",
       "      <td>0.957780</td>\n",
       "      <td>70.323395</td>\n",
       "      <td>0.932365</td>\n",
       "      <td>0.137351</td>\n",
       "      <td>0.200448</td>\n",
       "    </tr>\n",
       "    <tr>\n",
       "      <th>4</th>\n",
       "      <td>Sweden</td>\n",
       "      <td>2015</td>\n",
       "      <td>98.076920</td>\n",
       "      <td>5.0</td>\n",
       "      <td>7.364</td>\n",
       "      <td>8</td>\n",
       "      <td>10.658623</td>\n",
       "      <td>0.927801</td>\n",
       "      <td>71.632347</td>\n",
       "      <td>0.942244</td>\n",
       "      <td>0.164320</td>\n",
       "      <td>0.271875</td>\n",
       "    </tr>\n",
       "  </tbody>\n",
       "</table>\n",
       "</div>"
      ],
      "text/plain": [
       "       Country  Year         ccr  Rank_CorruptionControl  Score  \\\n",
       "0  New Zealand  2015  100.000000                     1.0  7.286   \n",
       "1      Finland  2015   99.519234                     2.0  7.406   \n",
       "2       Norway  2015   99.038460                     3.0  7.522   \n",
       "3      Denmark  2015   98.557693                     4.0  7.527   \n",
       "4       Sweden  2015   98.076920                     5.0  7.364   \n",
       "\n",
       "   Rank_happiness  Logged GDP per capita  Social support  \\\n",
       "0               9              10.408683        0.940631   \n",
       "1               6              10.531513        0.940039   \n",
       "2               4              11.048872        0.945359   \n",
       "3               3              10.639521        0.957780   \n",
       "4               8              10.658623        0.927801   \n",
       "\n",
       "   Healthy life expectancy  Freedom to make life choices  Generosity  \\\n",
       "0                71.542191                      0.922873    0.307064   \n",
       "1                70.846245                      0.925070    0.000338   \n",
       "2                70.705254                      0.951669    0.144468   \n",
       "3                70.323395                      0.932365    0.137351   \n",
       "4                71.632347                      0.942244    0.164320   \n",
       "\n",
       "   Perceptions of corruption  \n",
       "0                   0.286466  \n",
       "1                   0.310990  \n",
       "2                   0.388029  \n",
       "3                   0.200448  \n",
       "4                   0.271875  "
      ]
     },
     "execution_count": 49,
     "metadata": {},
     "output_type": "execute_result"
    }
   ],
   "source": [
    "#Merge with Happiness Data\n",
    "CombinedCorruptionData=pd.merge(CorruptionData,HappinessData,on=['Country','Year'],suffixes=('_CorruptionControl','_happiness'))\n",
    "CombinedCorruptionData.head()"
   ]
  },
  {
   "cell_type": "code",
   "execution_count": 50,
   "id": "ce49a866",
   "metadata": {},
   "outputs": [
    {
     "data": {
      "text/plain": [
       "LinregressResult(slope=0.8751128470253638, intercept=42.10474194365527, rvalue=0.6470315394306472, pvalue=1.2264084499658157e-105, stderr=0.03478268305587715, intercept_stderr=3.125114477065214)"
      ]
     },
     "execution_count": 50,
     "metadata": {},
     "output_type": "execute_result"
    }
   ],
   "source": [
    "#Calculate regression model\n",
    "model=linregress(CombinedCorruptionData['Rank_happiness'],CombinedCorruptionData['Rank_CorruptionControl'])\n",
    "model"
   ]
  },
  {
   "cell_type": "code",
   "execution_count": 51,
   "id": "524cf48d",
   "metadata": {},
   "outputs": [
    {
     "name": "stdout",
     "output_type": "stream",
     "text": [
      "The r-value is: 0.41864981301799314\n"
     ]
    },
    {
     "data": {
      "image/png": "[encoded data removed]",
      "text/plain": [
       "<Figure size 432x288 with 1 Axes>"
      ]
     },
     "metadata": {
      "needs_background": "light"
     },
     "output_type": "display_data"
    }
   ],
   "source": [
    "regressvalues=CombinedCorruptionData['Rank_happiness']*model[0]+model[1] #Calculate Linear Regression\n",
    "line_eq= f\"y = {str(round(model[0],2))}x +  {str(round(model[1],2))}\"\n",
    "print(f\"The r-value is: {model[2]**2}\") #Print Rvalue\n",
    "plt.title('Happindess Index vs Corruption Control Index')\n",
    "plt.xlabel('Happiness Rank/Index')\n",
    "plt.ylabel('Corruption Control Rank/Index')\n",
    "plt.scatter(CombinedCorruptionData['Rank_happiness'],CombinedCorruptionData['Rank_CorruptionControl'])\n",
    "plt.plot(CombinedCorruptionData['Rank_happiness'],regressvalues,'red')\n",
    "plt.annotate(line_eq,(80,20),fontsize=15,color='red')\n",
    "plt.show()\n",
    "#  Looks like there is a moderately positive realtionship between Corruption control and happiness "
   ]
  },
  {
   "cell_type": "code",
   "execution_count": null,
   "id": "5a3c5817",
   "metadata": {},
   "outputs": [],
   "source": []
  }
 ],
 "metadata": {
  "kernelspec": {
   "display_name": "Python 3",
   "language": "python",
   "name": "python3"
  },
  "language_info": {
   "codemirror_mode": {
    "name": "ipython",
    "version": 3
   },
   "file_extension": ".py",
   "mimetype": "text/x-python",
   "name": "python",
   "nbconvert_exporter": "python",
   "pygments_lexer": "ipython3",
   "version": "3.8.2"
  }
 },
 "nbformat": 4,
 "nbformat_minor": 5
}
