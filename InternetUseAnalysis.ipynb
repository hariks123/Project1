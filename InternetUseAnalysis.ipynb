{
 "cells": [
  {
   "cell_type": "markdown",
   "id": "f8b6a9e1",
   "metadata": {},
   "source": [
    "# Happiness Index and a Population's Internet Usage <br>\n",
    "#### Data cleanup and analysis code by: <br>\n",
    "> Ricardo G. Mora, Jr. <br>\n",
    "#### Happiness Index Provided by: <br>\n",
    "> World Happiness Report <br>\n",
    "> John F Helliwell, Richard Layard, Jeffrey D. Sachs, Jan_Emmanuel De Neve, Lara B. Aknin, and Shun Wang <br>\n",
    "> https://worldhappiness.report/ <br>\n",
    "\n",
    "#### Internet Usage Data Provided by: <br>\n",
    "> The World Bank / International Telecommunication Union (ITU) World Telecommunication/ICT Indicators Database <br>\n",
    "> https://data.worldbank.org/indicator/IT.NET.USER.ZS\n",
    "    "
   ]
  },
  {
   "cell_type": "code",
   "execution_count": 39,
   "id": "66e2ffb1",
   "metadata": {},
   "outputs": [],
   "source": [
    "# Libraries\n",
    "import pandas as pd\n",
    "import numpy as np\n",
    "import matplotlib.pyplot as plt\n",
    "import csv\n",
    "from scipy.stats import linregress\n",
    "\n",
    "# Ignore warnings\n",
    "import warnings\n",
    "warnings.filterwarnings('ignore')\n",
    "\n",
    "# Data files\n",
    "internetdatafile = \"Input_Data/internet_usage_data.xlsx\"\n",
    "happinessdatafile = \"Input_Data/WHR2015-21.xlsx\"\n",
    "internetoutputfile = \"Output_Data/cleaned_internet_usage_data.csv\"\n",
    "happinessoutputfile = \"Output_Data/happiness_data_inclulding_intenet.csv\"\n",
    "plot1 = \"Output_Data/internet_vs_happiness_plot.png\""
   ]
  },
  {
   "cell_type": "markdown",
   "id": "1677d137",
   "metadata": {},
   "source": [
    "#### Get Happiness data and Internet Usage data and compare countries:"
   ]
  },
  {
   "cell_type": "code",
   "execution_count": 40,
   "id": "b3a067a3",
   "metadata": {},
   "outputs": [
    {
     "data": {
      "text/html": [
       "<div>\n",
       "<style scoped>\n",
       "    .dataframe tbody tr th:only-of-type {\n",
       "        vertical-align: middle;\n",
       "    }\n",
       "\n",
       "    .dataframe tbody tr th {\n",
       "        vertical-align: top;\n",
       "    }\n",
       "\n",
       "    .dataframe thead th {\n",
       "        text-align: right;\n",
       "    }\n",
       "</style>\n",
       "<table border=\"1\" class=\"dataframe\">\n",
       "  <thead>\n",
       "    <tr style=\"text-align: right;\">\n",
       "      <th></th>\n",
       "      <th>Country</th>\n",
       "      <th>Score</th>\n",
       "      <th>Rank</th>\n",
       "      <th>Year</th>\n",
       "      <th>Logged GDP per capita</th>\n",
       "      <th>Social support</th>\n",
       "      <th>Healthy life expectancy</th>\n",
       "      <th>Freedom to make life choices</th>\n",
       "      <th>Generosity</th>\n",
       "      <th>Perceptions of corruption</th>\n",
       "    </tr>\n",
       "  </thead>\n",
       "  <tbody>\n",
       "    <tr>\n",
       "      <th>0</th>\n",
       "      <td>Switzerland</td>\n",
       "      <td>7.587</td>\n",
       "      <td>1</td>\n",
       "      <td>2015</td>\n",
       "      <td>10.857283</td>\n",
       "      <td>0.953136</td>\n",
       "      <td>72.736862</td>\n",
       "      <td>0.947724</td>\n",
       "      <td>0.080692</td>\n",
       "      <td>0.301402</td>\n",
       "    </tr>\n",
       "    <tr>\n",
       "      <th>1</th>\n",
       "      <td>Iceland</td>\n",
       "      <td>7.561</td>\n",
       "      <td>2</td>\n",
       "      <td>2015</td>\n",
       "      <td>10.568534</td>\n",
       "      <td>0.975240</td>\n",
       "      <td>72.968559</td>\n",
       "      <td>0.912811</td>\n",
       "      <td>0.257895</td>\n",
       "      <td>0.741834</td>\n",
       "    </tr>\n",
       "  </tbody>\n",
       "</table>\n",
       "</div>"
      ],
      "text/plain": [
       "       Country  Score  Rank  Year  Logged GDP per capita  Social support  \\\n",
       "0  Switzerland  7.587     1  2015              10.857283        0.953136   \n",
       "1      Iceland  7.561     2  2015              10.568534        0.975240   \n",
       "\n",
       "   Healthy life expectancy  Freedom to make life choices  Generosity  \\\n",
       "0                72.736862                      0.947724    0.080692   \n",
       "1                72.968559                      0.912811    0.257895   \n",
       "\n",
       "   Perceptions of corruption  \n",
       "0                   0.301402  \n",
       "1                   0.741834  "
      ]
     },
     "execution_count": 40,
     "metadata": {},
     "output_type": "execute_result"
    }
   ],
   "source": [
    "# Read in happiness data and display\n",
    "happinessdata = pd.read_excel(happinessdatafile)\n",
    "happinessdata.head(2)"
   ]
  },
  {
   "cell_type": "code",
   "execution_count": 41,
   "id": "83febcd1",
   "metadata": {},
   "outputs": [
    {
     "data": {
      "text/html": [
       "<div>\n",
       "<style scoped>\n",
       "    .dataframe tbody tr th:only-of-type {\n",
       "        vertical-align: middle;\n",
       "    }\n",
       "\n",
       "    .dataframe tbody tr th {\n",
       "        vertical-align: top;\n",
       "    }\n",
       "\n",
       "    .dataframe thead th {\n",
       "        text-align: right;\n",
       "    }\n",
       "</style>\n",
       "<table border=\"1\" class=\"dataframe\">\n",
       "  <thead>\n",
       "    <tr style=\"text-align: right;\">\n",
       "      <th></th>\n",
       "      <th>Country Name</th>\n",
       "      <th>Country Code</th>\n",
       "      <th>Indicator Name</th>\n",
       "      <th>Indicator Code</th>\n",
       "      <th>1960</th>\n",
       "      <th>1961</th>\n",
       "      <th>1962</th>\n",
       "      <th>1963</th>\n",
       "      <th>1964</th>\n",
       "      <th>1965</th>\n",
       "      <th>...</th>\n",
       "      <th>2011</th>\n",
       "      <th>2012</th>\n",
       "      <th>2013</th>\n",
       "      <th>2014</th>\n",
       "      <th>2015</th>\n",
       "      <th>2016</th>\n",
       "      <th>2017</th>\n",
       "      <th>2018</th>\n",
       "      <th>2019</th>\n",
       "      <th>2020</th>\n",
       "    </tr>\n",
       "  </thead>\n",
       "  <tbody>\n",
       "    <tr>\n",
       "      <th>0</th>\n",
       "      <td>Aruba</td>\n",
       "      <td>ABW</td>\n",
       "      <td>Individuals using the Internet (% of population)</td>\n",
       "      <td>IT.NET.USER.ZS</td>\n",
       "      <td>NaN</td>\n",
       "      <td>NaN</td>\n",
       "      <td>NaN</td>\n",
       "      <td>NaN</td>\n",
       "      <td>NaN</td>\n",
       "      <td>NaN</td>\n",
       "      <td>...</td>\n",
       "      <td>69.000000</td>\n",
       "      <td>74.000000</td>\n",
       "      <td>78.900000</td>\n",
       "      <td>83.78000</td>\n",
       "      <td>88.661227</td>\n",
       "      <td>93.542454</td>\n",
       "      <td>97.170000</td>\n",
       "      <td>NaN</td>\n",
       "      <td>NaN</td>\n",
       "      <td>NaN</td>\n",
       "    </tr>\n",
       "    <tr>\n",
       "      <th>1</th>\n",
       "      <td>Africa Eastern and Southern</td>\n",
       "      <td>AFE</td>\n",
       "      <td>Individuals using the Internet (% of population)</td>\n",
       "      <td>IT.NET.USER.ZS</td>\n",
       "      <td>NaN</td>\n",
       "      <td>NaN</td>\n",
       "      <td>NaN</td>\n",
       "      <td>NaN</td>\n",
       "      <td>NaN</td>\n",
       "      <td>NaN</td>\n",
       "      <td>...</td>\n",
       "      <td>7.904114</td>\n",
       "      <td>8.940634</td>\n",
       "      <td>10.552158</td>\n",
       "      <td>13.05201</td>\n",
       "      <td>15.990277</td>\n",
       "      <td>17.165587</td>\n",
       "      <td>20.332119</td>\n",
       "      <td>23.657366</td>\n",
       "      <td>26.448284</td>\n",
       "      <td>NaN</td>\n",
       "    </tr>\n",
       "  </tbody>\n",
       "</table>\n",
       "<p>2 rows × 65 columns</p>\n",
       "</div>"
      ],
      "text/plain": [
       "                  Country Name Country Code  \\\n",
       "0                        Aruba          ABW   \n",
       "1  Africa Eastern and Southern          AFE   \n",
       "\n",
       "                                     Indicator Name  Indicator Code  1960  \\\n",
       "0  Individuals using the Internet (% of population)  IT.NET.USER.ZS   NaN   \n",
       "1  Individuals using the Internet (% of population)  IT.NET.USER.ZS   NaN   \n",
       "\n",
       "   1961  1962  1963  1964  1965  ...       2011       2012       2013  \\\n",
       "0   NaN   NaN   NaN   NaN   NaN  ...  69.000000  74.000000  78.900000   \n",
       "1   NaN   NaN   NaN   NaN   NaN  ...   7.904114   8.940634  10.552158   \n",
       "\n",
       "       2014       2015       2016       2017       2018       2019  2020  \n",
       "0  83.78000  88.661227  93.542454  97.170000        NaN        NaN   NaN  \n",
       "1  13.05201  15.990277  17.165587  20.332119  23.657366  26.448284   NaN  \n",
       "\n",
       "[2 rows x 65 columns]"
      ]
     },
     "execution_count": 41,
     "metadata": {},
     "output_type": "execute_result"
    }
   ],
   "source": [
    "# Read in internet usage data and display\n",
    "internetdata = pd.read_excel(internetdatafile)\n",
    "internetdata.head(2)"
   ]
  },
  {
   "cell_type": "code",
   "execution_count": 42,
   "id": "f6e43d78",
   "metadata": {},
   "outputs": [
    {
     "data": {
      "text/plain": [
       "array(['Afghanistan', 'Albania', 'Algeria', 'Angola', 'Argentina',\n",
       "       'Armenia', 'Australia', 'Austria', 'Azerbaijan', 'Bahrain',\n",
       "       'Bangladesh', 'Belarus', 'Belgium', 'Belize', 'Benin', 'Bhutan',\n",
       "       'Bolivia', 'Bosnia and Herzegovina', 'Botswana', 'Brazil',\n",
       "       'Bulgaria', 'Burkina Faso', 'Burundi', 'Cambodia', 'Cameroon',\n",
       "       'Canada', 'Central African Republic', 'Chad', 'Chile', 'China',\n",
       "       'Colombia', 'Comoros', 'Congo (Brazzaville)', 'Congo (Kinshasa)',\n",
       "       'Costa Rica', 'Croatia', 'Cyprus', 'Czech Republic', 'Denmark',\n",
       "       'Djibouti', 'Dominican Republic', 'Ecuador', 'Egypt',\n",
       "       'El Salvador', 'Estonia', 'Ethiopia', 'Finland', 'France', 'Gabon',\n",
       "       'Gambia', 'Georgia', 'Germany', 'Ghana', 'Greece', 'Guatemala',\n",
       "       'Guinea', 'Haiti', 'Honduras', 'Hong Kong', 'Hungary', 'Iceland',\n",
       "       'India', 'Indonesia', 'Iran', 'Iraq', 'Ireland', 'Israel', 'Italy',\n",
       "       'Ivory Coast', 'Jamaica', 'Japan', 'Jordan', 'Kazakhstan', 'Kenya',\n",
       "       'Kosovo', 'Kuwait', 'Kyrgyzstan', 'Laos', 'Latvia', 'Lebanon',\n",
       "       'Lesotho', 'Liberia', 'Libya', 'Lithuania', 'Luxembourg',\n",
       "       'Macedonia', 'Madagascar', 'Malawi', 'Malaysia', 'Maldives',\n",
       "       'Mali', 'Malta', 'Mauritania', 'Mauritius', 'Mexico', 'Moldova',\n",
       "       'Mongolia', 'Montenegro', 'Morocco', 'Mozambique', 'Myanmar',\n",
       "       'Namibia', 'Nepal', 'Netherlands', 'New Zealand', 'Nicaragua',\n",
       "       'Niger', 'Nigeria', 'North Macedonia', 'Northern Cyprus', 'Norway',\n",
       "       'Oman', 'Pakistan', 'Palestinian Territories', 'Panama',\n",
       "       'Paraguay', 'Peru', 'Philippines', 'Poland', 'Portugal',\n",
       "       'Puerto Rico', 'Qatar', 'Romania', 'Russia', 'Rwanda',\n",
       "       'Saudi Arabia', 'Senegal', 'Serbia', 'Sierra Leone', 'Singapore',\n",
       "       'Slovakia', 'Slovenia', 'Somalia', 'Somaliland region',\n",
       "       'South Africa', 'South Korea', 'South Sudan', 'Spain', 'Sri Lanka',\n",
       "       'Sudan', 'Suriname', 'Swaziland', 'Sweden', 'Switzerland', 'Syria',\n",
       "       'Taiwan', 'Tajikistan', 'Tanzania', 'Thailand', 'Togo',\n",
       "       'Trinidad and Tobago', 'Tunisia', 'Turkey', 'Turkmenistan',\n",
       "       'Uganda', 'Ukraine', 'United Arab Emirates', 'United Kingdom',\n",
       "       'United States', 'Uruguay', 'Uzbekistan', 'Venezuela', 'Vietnam',\n",
       "       'Yemen', 'Zambia', 'Zimbabwe'], dtype=object)"
      ]
     },
     "execution_count": 42,
     "metadata": {},
     "output_type": "execute_result"
    }
   ],
   "source": [
    "# List all the countries in the happiness data\n",
    "happinessdata[\"Country\"].sort_values().unique()"
   ]
  },
  {
   "cell_type": "code",
   "execution_count": 43,
   "id": "4ecf7ba1",
   "metadata": {},
   "outputs": [
    {
     "data": {
      "text/plain": [
       "array(['Afghanistan', 'Africa Eastern and Southern',\n",
       "       'Africa Western and Central', 'Albania', 'Algeria',\n",
       "       'American Samoa', 'Andorra', 'Angola', 'Antigua and Barbuda',\n",
       "       'Arab World', 'Argentina', 'Armenia', 'Aruba', 'Australia',\n",
       "       'Austria', 'Azerbaijan', 'Bahamas, The', 'Bahrain', 'Bangladesh',\n",
       "       'Barbados', 'Belarus', 'Belgium', 'Belize', 'Benin', 'Bermuda',\n",
       "       'Bhutan', 'Bolivia', 'Bosnia and Herzegovina', 'Botswana',\n",
       "       'Brazil', 'British Virgin Islands', 'Brunei Darussalam',\n",
       "       'Bulgaria', 'Burkina Faso', 'Burundi', 'Cabo Verde', 'Cambodia',\n",
       "       'Cameroon', 'Canada', 'Caribbean small states', 'Cayman Islands',\n",
       "       'Central African Republic', 'Central Europe and the Baltics',\n",
       "       'Chad', 'Channel Islands', 'Chile', 'China', 'Colombia', 'Comoros',\n",
       "       'Congo, Dem. Rep.', 'Congo, Rep.', 'Costa Rica', \"Cote d'Ivoire\",\n",
       "       'Croatia', 'Cuba', 'Curacao', 'Cyprus', 'Czech Republic',\n",
       "       'Denmark', 'Djibouti', 'Dominica', 'Dominican Republic',\n",
       "       'Early-demographic dividend', 'East Asia & Pacific',\n",
       "       'East Asia & Pacific (IDA & IBRD countries)',\n",
       "       'East Asia & Pacific (excluding high income)', 'Ecuador',\n",
       "       'Egypt, Arab Rep.', 'El Salvador', 'Equatorial Guinea', 'Eritrea',\n",
       "       'Estonia', 'Eswatini', 'Ethiopia', 'Euro area',\n",
       "       'Europe & Central Asia',\n",
       "       'Europe & Central Asia (IDA & IBRD countries)',\n",
       "       'Europe & Central Asia (excluding high income)', 'European Union',\n",
       "       'Faroe Islands', 'Fiji', 'Finland',\n",
       "       'Fragile and conflict affected situations', 'France',\n",
       "       'French Polynesia', 'Gabon', 'Gambia, The', 'Georgia', 'Germany',\n",
       "       'Ghana', 'Gibraltar', 'Greece', 'Greenland', 'Grenada', 'Guam',\n",
       "       'Guatemala', 'Guinea', 'Guinea-Bissau', 'Guyana', 'Haiti',\n",
       "       'Heavily indebted poor countries (HIPC)', 'High income',\n",
       "       'Honduras', 'Hong Kong SAR, China', 'Hungary', 'IBRD only',\n",
       "       'IDA & IBRD total', 'IDA blend', 'IDA only', 'IDA total',\n",
       "       'Iceland', 'India', 'Indonesia', 'Iran, Islamic Rep.', 'Iraq',\n",
       "       'Ireland', 'Isle of Man', 'Israel', 'Italy', 'Jamaica', 'Japan',\n",
       "       'Jordan', 'Kazakhstan', 'Kenya', 'Kiribati',\n",
       "       \"Korea, Dem. People's Rep.\", 'Korea, Rep.', 'Kosovo', 'Kuwait',\n",
       "       'Kyrgyz Republic', 'Lao PDR', 'Late-demographic dividend',\n",
       "       'Latin America & Caribbean',\n",
       "       'Latin America & Caribbean (excluding high income)',\n",
       "       'Latin America & the Caribbean (IDA & IBRD countries)', 'Latvia',\n",
       "       'Least developed countries: UN classification', 'Lebanon',\n",
       "       'Lesotho', 'Liberia', 'Libya', 'Liechtenstein', 'Lithuania',\n",
       "       'Low & middle income', 'Low income', 'Lower middle income',\n",
       "       'Luxembourg', 'Macao SAR, China', 'Madagascar', 'Malawi',\n",
       "       'Malaysia', 'Maldives', 'Mali', 'Malta', 'Marshall Islands',\n",
       "       'Mauritania', 'Mauritius', 'Mexico', 'Micronesia, Fed. Sts.',\n",
       "       'Middle East & North Africa',\n",
       "       'Middle East & North Africa (IDA & IBRD countries)',\n",
       "       'Middle East & North Africa (excluding high income)',\n",
       "       'Middle income', 'Moldova', 'Monaco', 'Mongolia', 'Montenegro',\n",
       "       'Morocco', 'Mozambique', 'Myanmar', 'Namibia', 'Nauru', 'Nepal',\n",
       "       'Netherlands', 'New Caledonia', 'New Zealand', 'Nicaragua',\n",
       "       'Niger', 'Nigeria', 'North America', 'North Macedonia',\n",
       "       'Northern Mariana Islands', 'Norway', 'Not classified',\n",
       "       'OECD members', 'Oman', 'Other small states',\n",
       "       'Pacific island small states', 'Pakistan', 'Palau', 'Panama',\n",
       "       'Papua New Guinea', 'Paraguay', 'Peru', 'Philippines', 'Poland',\n",
       "       'Portugal', 'Post-demographic dividend',\n",
       "       'Pre-demographic dividend', 'Puerto Rico', 'Qatar', 'Romania',\n",
       "       'Russian Federation', 'Rwanda', 'Samoa', 'San Marino',\n",
       "       'Sao Tome and Principe', 'Saudi Arabia', 'Senegal', 'Serbia',\n",
       "       'Seychelles', 'Sierra Leone', 'Singapore',\n",
       "       'Sint Maarten (Dutch part)', 'Slovak Republic', 'Slovenia',\n",
       "       'Small states', 'Solomon Islands', 'Somalia', 'South Africa',\n",
       "       'South Asia', 'South Asia (IDA & IBRD)', 'South Sudan', 'Spain',\n",
       "       'Sri Lanka', 'St. Kitts and Nevis', 'St. Lucia',\n",
       "       'St. Martin (French part)', 'St. Vincent and the Grenadines',\n",
       "       'Sub-Saharan Africa', 'Sub-Saharan Africa (IDA & IBRD countries)',\n",
       "       'Sub-Saharan Africa (excluding high income)', 'Sudan', 'Suriname',\n",
       "       'Sweden', 'Switzerland', 'Syrian Arab Republic', 'Tajikistan',\n",
       "       'Tanzania', 'Thailand', 'Timor-Leste', 'Togo', 'Tonga',\n",
       "       'Trinidad and Tobago', 'Tunisia', 'Turkey', 'Turkmenistan',\n",
       "       'Turks and Caicos Islands', 'Tuvalu', 'Uganda', 'Ukraine',\n",
       "       'United Arab Emirates', 'United Kingdom', 'United States',\n",
       "       'Upper middle income', 'Uruguay', 'Uzbekistan', 'Vanuatu',\n",
       "       'Venezuela, RB', 'Vietnam', 'Virgin Islands (U.S.)',\n",
       "       'West Bank and Gaza', 'World', 'Yemen, Rep.', 'Zambia', 'Zimbabwe'],\n",
       "      dtype=object)"
      ]
     },
     "execution_count": 43,
     "metadata": {},
     "output_type": "execute_result"
    }
   ],
   "source": [
    "# List all the countries in the happiness data\n",
    "internetdata[\"Country Name\"].sort_values().unique()"
   ]
  },
  {
   "cell_type": "markdown",
   "id": "3ec8dc9f",
   "metadata": {},
   "source": [
    "#### Clean the  Internet Usage data and merge with Happiness data:"
   ]
  },
  {
   "cell_type": "markdown",
   "id": "3d6743fd",
   "metadata": {},
   "source": [
    "* Make adjustments to country names in Internet data set that don't exactly match the country names in Happiness data:"
   ]
  },
  {
   "cell_type": "code",
   "execution_count": 44,
   "id": "f46dd029",
   "metadata": {},
   "outputs": [],
   "source": [
    "internetdata.replace(\"Congo, Dem. Rep.\", \"Congo (Kinshasa)\", inplace=True)\n",
    "internetdata.replace(\"Congo, Rep.\", \"Congo (Brazzaville)\", inplace=True)\n",
    "internetdata.replace(\"Egypt, Arab Rep.\", \"Egypt\", inplace=True)\n",
    "internetdata.replace(\"Gambia, The\", \"Gambia\", inplace=True)\n",
    "internetdata.replace(\"Hong Kong SAR, China\", \"Hong Kong\", inplace=True)\n",
    "internetdata.replace(\"Iran, Islamic Rep.\", \"Iran\", inplace=True)\n",
    "internetdata.replace(\"Kyrgyz Republic\", \"Kyrgyzstan\", inplace=True)\n",
    "internetdata.replace(\"Lao PDR\", \"Laos\", inplace=True)\n",
    "internetdata.replace(\"West Bank and Gaza\", \"Palestinian Territories\", inplace=True)\n",
    "internetdata.replace(\"Russian Federation\", \"Russia\", inplace=True)\n",
    "internetdata.replace(\"Slovak Republic\", \"Slovakia\", inplace=True)\n",
    "internetdata.replace(\"Korea, Rep.\", \"South Korea\", inplace=True)\n",
    "internetdata.replace(\"Syrian Arab Republic\", \"Syria\", inplace=True)\n",
    "internetdata.replace(\"Venezuela, RB\", \"Venezuela\", inplace=True)\n",
    "internetdata.replace(\"Yemen, Rep.\", \"Yemen\", inplace=True)"
   ]
  },
  {
   "cell_type": "markdown",
   "id": "49752fa6",
   "metadata": {},
   "source": [
    "* Normalize (unpivot) the Internet Usage data:"
   ]
  },
  {
   "cell_type": "code",
   "execution_count": 45,
   "id": "41c90c8a",
   "metadata": {},
   "outputs": [
    {
     "data": {
      "text/html": [
       "<div>\n",
       "<style scoped>\n",
       "    .dataframe tbody tr th:only-of-type {\n",
       "        vertical-align: middle;\n",
       "    }\n",
       "\n",
       "    .dataframe tbody tr th {\n",
       "        vertical-align: top;\n",
       "    }\n",
       "\n",
       "    .dataframe thead th {\n",
       "        text-align: right;\n",
       "    }\n",
       "</style>\n",
       "<table border=\"1\" class=\"dataframe\">\n",
       "  <thead>\n",
       "    <tr style=\"text-align: right;\">\n",
       "      <th></th>\n",
       "      <th>Country</th>\n",
       "      <th>Year</th>\n",
       "      <th>Internet Use</th>\n",
       "    </tr>\n",
       "  </thead>\n",
       "  <tbody>\n",
       "    <tr>\n",
       "      <th>0</th>\n",
       "      <td>Aruba</td>\n",
       "      <td>2015</td>\n",
       "      <td>88.661227</td>\n",
       "    </tr>\n",
       "    <tr>\n",
       "      <th>1</th>\n",
       "      <td>Aruba</td>\n",
       "      <td>2016</td>\n",
       "      <td>93.542454</td>\n",
       "    </tr>\n",
       "  </tbody>\n",
       "</table>\n",
       "</div>"
      ],
      "text/plain": [
       "  Country  Year  Internet Use\n",
       "0   Aruba  2015     88.661227\n",
       "1   Aruba  2016     93.542454"
      ]
     },
     "execution_count": 45,
     "metadata": {},
     "output_type": "execute_result"
    }
   ],
   "source": [
    "# Create new empty dataframe for internet usage data\n",
    "modifieddata = pd.DataFrame(columns = [\"Country\", \"Year\", \"Internet Use\"])\n",
    "\n",
    "# Append a new row to the new dataframe for every row/year combination in originaal dataframe\n",
    "for index, row in internetdata.iterrows():\n",
    "    for year in range(2015, 2021):\n",
    "        if str(year) in internetdata.columns:\n",
    "            newrow = [row[\"Country Name\"], year, row[str(year)]]\n",
    "            modifieddata.loc[len(modifieddata)] = newrow\n",
    "\n",
    "# Drop Nan rows\n",
    "modifieddata.dropna(inplace=True)\n",
    "            \n",
    "# Save new dataframe to csv file\n",
    "modifieddata.to_csv(internetoutputfile, index=False)\n",
    "\n",
    "# Display\n",
    "modifieddata.head(2)"
   ]
  },
  {
   "cell_type": "markdown",
   "id": "51517760",
   "metadata": {},
   "source": [
    "* Merge the two data sets:"
   ]
  },
  {
   "cell_type": "code",
   "execution_count": 46,
   "id": "2197a1a2",
   "metadata": {},
   "outputs": [
    {
     "data": {
      "text/html": [
       "<div>\n",
       "<style scoped>\n",
       "    .dataframe tbody tr th:only-of-type {\n",
       "        vertical-align: middle;\n",
       "    }\n",
       "\n",
       "    .dataframe tbody tr th {\n",
       "        vertical-align: top;\n",
       "    }\n",
       "\n",
       "    .dataframe thead th {\n",
       "        text-align: right;\n",
       "    }\n",
       "</style>\n",
       "<table border=\"1\" class=\"dataframe\">\n",
       "  <thead>\n",
       "    <tr style=\"text-align: right;\">\n",
       "      <th></th>\n",
       "      <th>Country</th>\n",
       "      <th>Score</th>\n",
       "      <th>Rank</th>\n",
       "      <th>Year</th>\n",
       "      <th>Logged GDP per capita</th>\n",
       "      <th>Social support</th>\n",
       "      <th>Healthy life expectancy</th>\n",
       "      <th>Freedom to make life choices</th>\n",
       "      <th>Generosity</th>\n",
       "      <th>Perceptions of corruption</th>\n",
       "      <th>Internet Use</th>\n",
       "    </tr>\n",
       "  </thead>\n",
       "  <tbody>\n",
       "    <tr>\n",
       "      <th>0</th>\n",
       "      <td>Switzerland</td>\n",
       "      <td>7.587</td>\n",
       "      <td>1</td>\n",
       "      <td>2015</td>\n",
       "      <td>10.857283</td>\n",
       "      <td>0.953136</td>\n",
       "      <td>72.736862</td>\n",
       "      <td>0.947724</td>\n",
       "      <td>0.080692</td>\n",
       "      <td>0.301402</td>\n",
       "      <td>87.479056</td>\n",
       "    </tr>\n",
       "    <tr>\n",
       "      <th>1</th>\n",
       "      <td>Iceland</td>\n",
       "      <td>7.561</td>\n",
       "      <td>2</td>\n",
       "      <td>2015</td>\n",
       "      <td>10.568534</td>\n",
       "      <td>0.975240</td>\n",
       "      <td>72.968559</td>\n",
       "      <td>0.912811</td>\n",
       "      <td>0.257895</td>\n",
       "      <td>0.741834</td>\n",
       "      <td>98.200000</td>\n",
       "    </tr>\n",
       "  </tbody>\n",
       "</table>\n",
       "</div>"
      ],
      "text/plain": [
       "       Country  Score  Rank  Year  Logged GDP per capita  Social support  \\\n",
       "0  Switzerland  7.587     1  2015              10.857283        0.953136   \n",
       "1      Iceland  7.561     2  2015              10.568534        0.975240   \n",
       "\n",
       "   Healthy life expectancy  Freedom to make life choices  Generosity  \\\n",
       "0                72.736862                      0.947724    0.080692   \n",
       "1                72.968559                      0.912811    0.257895   \n",
       "\n",
       "   Perceptions of corruption  Internet Use  \n",
       "0                   0.301402     87.479056  \n",
       "1                   0.741834     98.200000  "
      ]
     },
     "execution_count": 46,
     "metadata": {},
     "output_type": "execute_result"
    }
   ],
   "source": [
    "# Merge the internet usage dataframe with the happiness dataframe and drop NaN rows\n",
    "mergeddata = pd.merge(happinessdata, modifieddata, on=[\"Country\", \"Year\"], how=\"left\")\n",
    "mergeddata.dropna(inplace=True)\n",
    "\n",
    "# Save merged data to csv file\n",
    "mergeddata.to_csv(happinessoutputfile, index=False)\n",
    "\n",
    "# Display \n",
    "mergeddata.head(2)"
   ]
  },
  {
   "cell_type": "code",
   "execution_count": 47,
   "id": "3830d567",
   "metadata": {},
   "outputs": [
    {
     "name": "stdout",
     "output_type": "stream",
     "text": [
      "Number of countries in Internet Use data before cleaning: 266\n",
      "Number of countries in Internet Use data after cleaning: 253\n",
      "Number of countries in Happiness data before merging: 166\n",
      "Number of countries in Happiness data after merging: 156\n"
     ]
    }
   ],
   "source": [
    "print(f\"Number of countries in Internet Use data before cleaning: {internetdata['Country Name'].nunique()}\")\n",
    "print(f\"Number of countries in Internet Use data after cleaning: {modifieddata['Country'].nunique()}\")\n",
    "print(f\"Number of countries in Happiness data before merging: {happinessdata['Country'].nunique()}\")\n",
    "print(f\"Number of countries in Happiness data after merging: {mergeddata['Country'].nunique()}\")"
   ]
  },
  {
   "cell_type": "markdown",
   "id": "298fff1e",
   "metadata": {},
   "source": [
    "#### Determine if there is a correlation between a country's Happiness Score and the percentage of the population using the Internet:"
   ]
  },
  {
   "cell_type": "code",
   "execution_count": 49,
   "id": "3f4a93dc",
   "metadata": {},
   "outputs": [
    {
     "data": {
      "image/png": "[encoded data removed]",
      "text/plain": [
       "<Figure size 432x288 with 1 Axes>"
      ]
     },
     "metadata": {
      "needs_background": "light"
     },
     "output_type": "display_data"
    }
   ],
   "source": [
    "# Find line of regresson\n",
    "(m, b, r, p, stderr) = linregress(mergeddata[\"Internet Use\"], mergeddata[\"Score\"])\n",
    "y_regress = m * mergeddata[\"Internet Use\"] + b\n",
    "\n",
    "# Make scatter diagram\n",
    "fig, ax = plt.subplots()\n",
    "scatter = plt.scatter(mergeddata[\"Internet Use\"], mergeddata[\"Score\"], c=mergeddata[\"Year\"])\n",
    "plt.xlabel(\"% of Population Using Internet\")\n",
    "plt.ylabel(\"Happiness Score\")\n",
    "plt.title(\"Happiness Score vs Internet Usage\")\n",
    "legend = plt.legend(*scatter.legend_elements(), title=\"Year\", bbox_to_anchor=(1,1.02))\n",
    "ax.add_artist(legend)\n",
    "\n",
    "# Plot line of regression\n",
    "line = plt.plot(mergeddata[\"Internet Use\"], y_regress, color=\"red\")\n",
    "plt.annotate(f\"y = {m:.2f}x + {b:.2f}\", color=\"red\", xy=(5, 7.5))\n",
    "plt.annotate(f\"r = {r:.2f}\", color=\"red\", xy=(5, 7.0))\n",
    "plt.legend([line], labels=[\"2015 to 2020\"], loc=\"lower right\")\n",
    "\n",
    "plt.figtext(1, .05, \"Happiness Scores are from the World Happiness Report\")\n",
    "plt.figtext(1, 0, \"Internet Usage percentages are from The World Bank / International Telecommunication Union\")\n",
    "\n",
    "# Display plot and save to file\n",
    "plt.subplots_adjust(right=.8)\n",
    "plt.savefig(plot1)\n",
    "plt.show()"
   ]
  },
  {
   "cell_type": "markdown",
   "id": "16089bd3",
   "metadata": {},
   "source": [
    "Observation:  There appears to be a strong correlation between a country's Happiness Score and the percentage of its population using the Internet.  However, this does not imply that internet usage directly affects the happiness score.  The more accurate implication is that countries with easier and greater access to the internet are more likely to possess the conditions that result in its citizens feeling generally happy. <br>  "
   ]
  },
  {
   "cell_type": "code",
   "execution_count": null,
   "id": "8f1ecb10",
   "metadata": {},
   "outputs": [],
   "source": []
  }
 ],
 "metadata": {
  "kernelspec": {
   "display_name": "Python 3",
   "language": "python",
   "name": "python3"
  },
  "language_info": {
   "codemirror_mode": {
    "name": "ipython",
    "version": 3
   },
   "file_extension": ".py",
   "mimetype": "text/x-python",
   "name": "python",
   "nbconvert_exporter": "python",
   "pygments_lexer": "ipython3",
   "version": "3.8.8"
  }
 },
 "nbformat": 4,
 "nbformat_minor": 5
}
